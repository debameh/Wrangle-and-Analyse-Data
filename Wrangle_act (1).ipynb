{
 "cells": [
  {
   "cell_type": "markdown",
   "id": "3b79eb15",
   "metadata": {},
   "source": [
    "# Title: Wrangling (and analyzing and visualizing) the tweet archive of Twitter user @dog_rates, also known as WeRateDogs. "
   ]
  },
  {
   "cell_type": "markdown",
   "id": "6ca3e7d3",
   "metadata": {},
   "source": [
    "# Table of contents\n",
    "1. [Introduction](#about)\n",
    "    1. [Goals](#goals)\n",
    "2. [Gathering Data](#gather)\n",
    "    1. [Download ](#download)\n",
    "    2. [Request From Servers](#server)\n",
    "    3. [Accessing API](#api)\n",
    "3. [Assessing Data](#assess)\n",
    "    1. [visual](#vis)\n",
    "    2. [programmatic](#prog)\n",
    "    3. [Quality Issues](#quality)\n",
    "    4. [Tidiness Issues](#tidy)\n",
    "4. [Cleaning Data](#clean)\n",
    "5. [storing Data](#store)\n",
    "6. [Analyzing and Visualizing](#eda)\n",
    "7. [References](#ref)\n",
    "\n",
    "    \n",
    "    "
   ]
  },
  {
   "cell_type": "markdown",
   "id": "8d722280",
   "metadata": {},
   "source": [
    "## About:<a name=\"about\"></a>\n",
    "The dataset contains the tweet archive of Twitter user @dog_rates, also known as WeRateDogs. WeRateDogs is a Twitter account that rates people's dogs with a humorous comment about the dog. These ratings almost always have a denominator of 10. The numerators, though? Almost always greater than 10. 11/10, 12/10, 13/10, etc. Why? Because \"they're good dogs Brent.\" WeRateDogs has over 4 million followers and has received international media coverage."
   ]
  },
  {
   "cell_type": "markdown",
   "id": "f2db8c4a",
   "metadata": {},
   "source": [
    "### Goals:<a name=\"goals\"></a>\n",
    "Step 1: Gathering data\n",
    "\n",
    "Step 2: Assessing data\n",
    "\n",
    "Step 3: Cleaning data\n",
    "\n",
    "Step 4: Storing data\n",
    "\n",
    "Step 5: Analyzing, and visualizing data"
   ]
  },
  {
   "cell_type": "markdown",
   "id": "c33dd939",
   "metadata": {},
   "source": [
    "## Gathering Data<a name=\"gather\"></a>"
   ]
  },
  {
   "cell_type": "markdown",
   "id": "06520f0e",
   "metadata": {},
   "source": [
    "Gather all three pieces of data from the following sources:\n",
    "+ __Enhanced Twitter Archive__\n",
    "\n",
    "The WeRateDogs Twitter archive provided contains basic tweet data for all 5000+ of their tweets including each tweet's text, rating, dog name, and dog \"stage\" (i.e. doggo, floofer, pupper, and puppo). Of the 5000+ tweets, there are only 2356 with ratings.\n",
    "\n",
    "+ __Additional Data via the Twitter API__\n",
    "\n",
    "Retweet count and favorite count are two of the notable column omissions.This additional data can be gathered  from Twitter's API and will be done for all 5000+ by querying Twitter's API.\n",
    "\n",
    "+ __Image Predictions File__\n",
    "\n",
    "A table full of image predictions (the top three only) alongside each tweet ID, image URL, and the image number that corresponded to the most confident prediction (numbered 1 to 4 since tweets can have up to four images).\n",
    "_NOTE_:\n",
    "_tweet_id is the last part of the tweet URL after \"status/\",\n",
    "p1 is the algorithm's #1 prediction for the image in the tweet, \n",
    "p1_conf is how confident the algorithm is in its #1 prediction,\n",
    "p1_dog is whether or not the #1 prediction is a breed of dog,\n",
    "p2 is the algorithm's second most likely prediction ,\n",
    "p2_conf is how confident the algorithm is in its #2 prediction, \n",
    "p2_dog is whether or not the #2 prediction is a breed of dog,\n",
    "etc_."
   ]
  },
  {
   "cell_type": "code",
   "execution_count": 1,
   "id": "6d189307",
   "metadata": {},
   "outputs": [],
   "source": [
    "#Import Libraries\n",
    "import pandas as pd\n",
    "import numpy as np\n",
    "import os\n",
    "import json\n",
    "import requests\n",
    "import tweepy\n",
    "import seaborn as sns\n",
    "import matplotlib.pyplot as plt\n",
    "%matplotlib inline"
   ]
  },
  {
   "cell_type": "markdown",
   "id": "a80b49ed",
   "metadata": {},
   "source": [
    "### _importing downloaded data from twitter archives into dataframe:_<a name=\"download\"></a>"
   ]
  },
  {
   "cell_type": "code",
   "execution_count": 2,
   "id": "58458fd1",
   "metadata": {},
   "outputs": [],
   "source": [
    "#twitter archive dataset\n",
    "archive = pd.read_csv('twitter-archive-enhanced.csv')"
   ]
  },
  {
   "cell_type": "markdown",
   "id": "e58e1dd2",
   "metadata": {},
   "source": [
    "### _importing data from udacity servers:_<a class=\"anchor\" id=\"server\"></a>"
   ]
  },
  {
   "cell_type": "code",
   "execution_count": 3,
   "id": "9d4e8f36",
   "metadata": {},
   "outputs": [],
   "source": [
    "#neural networks dataset\n",
    "#make a new folder\n",
    "folder_name='image_pred'\n",
    "#make new directory if does not exists\n",
    "if not os.path.exists(folder_name):\n",
    "    os.makedirs(folder_name)\n",
    "    \n",
    "#create the request\n",
    "url='https://d17h27t6h515a5.cloudfront.net/topher/2017/August/599fd2ad_image-predictions/image-predictions.tsv'\n",
    "response=requests.get(url)\n"
   ]
  },
  {
   "cell_type": "code",
   "execution_count": 4,
   "id": "c7942c32",
   "metadata": {},
   "outputs": [],
   "source": [
    "#save the contents of the response to the computer\n",
    "with open(os.path.join(folder_name,url.split('/')[-1]),mode='wb') as file:\n",
    "    file.write(response.content) "
   ]
  },
  {
   "cell_type": "code",
   "execution_count": 5,
   "id": "4239cb9d",
   "metadata": {},
   "outputs": [],
   "source": [
    "#load the dataset into a dataframe\n",
    "image_prediction = pd.read_csv(r'C:\\Users\\OSE\\OneDrive\\Desktop\\DataWrangling\\image_pred\\image-predictions.tsv',sep ='\\t')"
   ]
  },
  {
   "cell_type": "markdown",
   "id": "0a07b276",
   "metadata": {},
   "source": [
    "### _downloading json file via tweepy_<a name=\"api\"></a>"
   ]
  },
  {
   "cell_type": "code",
   "execution_count": 6,
   "id": "985c1c46",
   "metadata": {},
   "outputs": [],
   "source": [
    "from tweepy import OAuthHandler\n",
    "from timeit import default_timer as timer\n",
    "\n",
    "# Query Twitter API for each tweet in the Twitter archive and save JSON in a text file\n",
    "# These are hidden to comply with Twitter's API terms and conditions\n",
    "consumer_key = 'HIDDEN'\n",
    "consumer_secret = 'HIDDEN'\n",
    "access_token = 'HIDDEN'\n",
    "access_secret = 'HIDDEN'\n",
    "\n",
    "auth = OAuthHandler(consumer_key, consumer_secret)\n",
    "auth.set_access_token(access_token, access_secret)\n",
    "\n",
    "api = tweepy.API(auth, wait_on_rate_limit=True)\n",
    "\n"
   ]
  },
  {
   "cell_type": "markdown",
   "id": "6f64e725",
   "metadata": {},
   "source": [
    "__Note:json.load does not decode multiple objects so to load the json file, wrap it up in a list otherwise the error 'JSONDecodeError: Extra data:' will occur__"
   ]
  },
  {
   "cell_type": "code",
   "execution_count": 7,
   "id": "478eed46",
   "metadata": {},
   "outputs": [],
   "source": [
    "#decode json file\n",
    "with open('tweet-json.txt') as json_file:\n",
    "    data=[json.loads(line) for line in json_file]\n",
    "    "
   ]
  },
  {
   "cell_type": "markdown",
   "id": "a77999fb",
   "metadata": {},
   "source": [
    "_create a function to iterate thorugh the list of dictionaries in the json file and return a list of dictionaries containing the tweet_ids,retweet count and favourite count_"
   ]
  },
  {
   "cell_type": "code",
   "execution_count": 8,
   "id": "0a7ba02a",
   "metadata": {},
   "outputs": [],
   "source": [
    "#create empty list\n",
    "items_list=[]\n",
    "#define function to iterate the dictionaries\n",
    "def get_values(dict):\n",
    "    '''this function loops through each dictionary\n",
    "    ,extracts and stores the values for id,retweet_count\n",
    "    and favorite count'''\n",
    "    for key, value in dict.items():\n",
    "        ids = dict[\"id\"]\n",
    "        retweet_count =dict[\"retweet_count\"]\n",
    "        favorite_count=dict[\"favorite_count\"]\n",
    "    items_list.append({\"id\":ids,\n",
    "                      \"retweet_count\":retweet_count,\n",
    "                      \"favorite_count\":favorite_count})\n",
    "#iterate through the outer list\n",
    "for dict in data:\n",
    "    get_values(dict)\n",
    "            "
   ]
  },
  {
   "cell_type": "code",
   "execution_count": 9,
   "id": "be3c97a1",
   "metadata": {},
   "outputs": [],
   "source": [
    "#load into dataframe\n",
    "tweet_statistics = pd.DataFrame(items_list,columns=['id','retweet_count','favorite_count'])"
   ]
  },
  {
   "cell_type": "markdown",
   "id": "d1f8cab2",
   "metadata": {},
   "source": [
    "## Assessing the data<a name=\"assess\"></a>"
   ]
  },
  {
   "cell_type": "markdown",
   "id": "69212d28",
   "metadata": {},
   "source": [
    "+ visual assesment<a name=\"vis\"></a>"
   ]
  },
  {
   "cell_type": "code",
   "execution_count": 10,
   "id": "30eb78f0",
   "metadata": {},
   "outputs": [
    {
     "data": {
      "text/html": [
       "<div>\n",
       "<style scoped>\n",
       "    .dataframe tbody tr th:only-of-type {\n",
       "        vertical-align: middle;\n",
       "    }\n",
       "\n",
       "    .dataframe tbody tr th {\n",
       "        vertical-align: top;\n",
       "    }\n",
       "\n",
       "    .dataframe thead th {\n",
       "        text-align: right;\n",
       "    }\n",
       "</style>\n",
       "<table border=\"1\" class=\"dataframe\">\n",
       "  <thead>\n",
       "    <tr style=\"text-align: right;\">\n",
       "      <th></th>\n",
       "      <th>tweet_id</th>\n",
       "      <th>in_reply_to_status_id</th>\n",
       "      <th>in_reply_to_user_id</th>\n",
       "      <th>timestamp</th>\n",
       "      <th>source</th>\n",
       "      <th>text</th>\n",
       "      <th>retweeted_status_id</th>\n",
       "      <th>retweeted_status_user_id</th>\n",
       "      <th>retweeted_status_timestamp</th>\n",
       "      <th>expanded_urls</th>\n",
       "      <th>rating_numerator</th>\n",
       "      <th>rating_denominator</th>\n",
       "      <th>name</th>\n",
       "      <th>doggo</th>\n",
       "      <th>floofer</th>\n",
       "      <th>pupper</th>\n",
       "      <th>puppo</th>\n",
       "    </tr>\n",
       "  </thead>\n",
       "  <tbody>\n",
       "    <tr>\n",
       "      <th>1242</th>\n",
       "      <td>711998809858043904</td>\n",
       "      <td>NaN</td>\n",
       "      <td>NaN</td>\n",
       "      <td>2016-03-21 19:31:59 +0000</td>\n",
       "      <td>&lt;a href=\"http://twitter.com/download/iphone\" r...</td>\n",
       "      <td>RT @twitter: @dog_rates Awesome Tweet! 12/10. ...</td>\n",
       "      <td>7.119983e+17</td>\n",
       "      <td>783214.0</td>\n",
       "      <td>2016-03-21 19:29:52 +0000</td>\n",
       "      <td>https://twitter.com/twitter/status/71199827977...</td>\n",
       "      <td>12</td>\n",
       "      <td>10</td>\n",
       "      <td>None</td>\n",
       "      <td>None</td>\n",
       "      <td>None</td>\n",
       "      <td>None</td>\n",
       "      <td>None</td>\n",
       "    </tr>\n",
       "    <tr>\n",
       "      <th>1128</th>\n",
       "      <td>729823566028484608</td>\n",
       "      <td>NaN</td>\n",
       "      <td>NaN</td>\n",
       "      <td>2016-05-10 00:01:12 +0000</td>\n",
       "      <td>&lt;a href=\"http://twitter.com/download/iphone\" r...</td>\n",
       "      <td>This is Stefan. He's a downright remarkable pu...</td>\n",
       "      <td>NaN</td>\n",
       "      <td>NaN</td>\n",
       "      <td>NaN</td>\n",
       "      <td>https://twitter.com/dog_rates/status/729823566...</td>\n",
       "      <td>13</td>\n",
       "      <td>10</td>\n",
       "      <td>Stefan</td>\n",
       "      <td>None</td>\n",
       "      <td>None</td>\n",
       "      <td>None</td>\n",
       "      <td>None</td>\n",
       "    </tr>\n",
       "    <tr>\n",
       "      <th>798</th>\n",
       "      <td>772877495989305348</td>\n",
       "      <td>NaN</td>\n",
       "      <td>NaN</td>\n",
       "      <td>2016-09-05 19:22:09 +0000</td>\n",
       "      <td>&lt;a href=\"http://twitter.com\" rel=\"nofollow\"&gt;Tw...</td>\n",
       "      <td>You need to watch these two doggos argue throu...</td>\n",
       "      <td>NaN</td>\n",
       "      <td>NaN</td>\n",
       "      <td>NaN</td>\n",
       "      <td>https://twitter.com/dog_rates/status/772877495...</td>\n",
       "      <td>11</td>\n",
       "      <td>10</td>\n",
       "      <td>None</td>\n",
       "      <td>None</td>\n",
       "      <td>None</td>\n",
       "      <td>None</td>\n",
       "      <td>None</td>\n",
       "    </tr>\n",
       "  </tbody>\n",
       "</table>\n",
       "</div>"
      ],
      "text/plain": [
       "                tweet_id  in_reply_to_status_id  in_reply_to_user_id  \\\n",
       "1242  711998809858043904                    NaN                  NaN   \n",
       "1128  729823566028484608                    NaN                  NaN   \n",
       "798   772877495989305348                    NaN                  NaN   \n",
       "\n",
       "                      timestamp  \\\n",
       "1242  2016-03-21 19:31:59 +0000   \n",
       "1128  2016-05-10 00:01:12 +0000   \n",
       "798   2016-09-05 19:22:09 +0000   \n",
       "\n",
       "                                                 source  \\\n",
       "1242  <a href=\"http://twitter.com/download/iphone\" r...   \n",
       "1128  <a href=\"http://twitter.com/download/iphone\" r...   \n",
       "798   <a href=\"http://twitter.com\" rel=\"nofollow\">Tw...   \n",
       "\n",
       "                                                   text  retweeted_status_id  \\\n",
       "1242  RT @twitter: @dog_rates Awesome Tweet! 12/10. ...         7.119983e+17   \n",
       "1128  This is Stefan. He's a downright remarkable pu...                  NaN   \n",
       "798   You need to watch these two doggos argue throu...                  NaN   \n",
       "\n",
       "      retweeted_status_user_id retweeted_status_timestamp  \\\n",
       "1242                  783214.0  2016-03-21 19:29:52 +0000   \n",
       "1128                       NaN                        NaN   \n",
       "798                        NaN                        NaN   \n",
       "\n",
       "                                          expanded_urls  rating_numerator  \\\n",
       "1242  https://twitter.com/twitter/status/71199827977...                12   \n",
       "1128  https://twitter.com/dog_rates/status/729823566...                13   \n",
       "798   https://twitter.com/dog_rates/status/772877495...                11   \n",
       "\n",
       "      rating_denominator    name doggo floofer pupper puppo  \n",
       "1242                  10    None  None    None   None  None  \n",
       "1128                  10  Stefan  None    None   None  None  \n",
       "798                   10    None  None    None   None  None  "
      ]
     },
     "execution_count": 10,
     "metadata": {},
     "output_type": "execute_result"
    }
   ],
   "source": [
    "archive.sample(3)"
   ]
  },
  {
   "cell_type": "code",
   "execution_count": 11,
   "id": "72ffbe72",
   "metadata": {},
   "outputs": [
    {
     "data": {
      "text/html": [
       "<div>\n",
       "<style scoped>\n",
       "    .dataframe tbody tr th:only-of-type {\n",
       "        vertical-align: middle;\n",
       "    }\n",
       "\n",
       "    .dataframe tbody tr th {\n",
       "        vertical-align: top;\n",
       "    }\n",
       "\n",
       "    .dataframe thead th {\n",
       "        text-align: right;\n",
       "    }\n",
       "</style>\n",
       "<table border=\"1\" class=\"dataframe\">\n",
       "  <thead>\n",
       "    <tr style=\"text-align: right;\">\n",
       "      <th></th>\n",
       "      <th>tweet_id</th>\n",
       "      <th>in_reply_to_status_id</th>\n",
       "      <th>in_reply_to_user_id</th>\n",
       "      <th>timestamp</th>\n",
       "      <th>source</th>\n",
       "      <th>text</th>\n",
       "      <th>retweeted_status_id</th>\n",
       "      <th>retweeted_status_user_id</th>\n",
       "      <th>retweeted_status_timestamp</th>\n",
       "      <th>expanded_urls</th>\n",
       "      <th>rating_numerator</th>\n",
       "      <th>rating_denominator</th>\n",
       "      <th>name</th>\n",
       "      <th>doggo</th>\n",
       "      <th>floofer</th>\n",
       "      <th>pupper</th>\n",
       "      <th>puppo</th>\n",
       "    </tr>\n",
       "  </thead>\n",
       "  <tbody>\n",
       "    <tr>\n",
       "      <th>0</th>\n",
       "      <td>892420643555336193</td>\n",
       "      <td>NaN</td>\n",
       "      <td>NaN</td>\n",
       "      <td>2017-08-01 16:23:56 +0000</td>\n",
       "      <td>&lt;a href=\"http://twitter.com/download/iphone\" r...</td>\n",
       "      <td>This is Phineas. He's a mystical boy. Only eve...</td>\n",
       "      <td>NaN</td>\n",
       "      <td>NaN</td>\n",
       "      <td>NaN</td>\n",
       "      <td>https://twitter.com/dog_rates/status/892420643...</td>\n",
       "      <td>13</td>\n",
       "      <td>10</td>\n",
       "      <td>Phineas</td>\n",
       "      <td>None</td>\n",
       "      <td>None</td>\n",
       "      <td>None</td>\n",
       "      <td>None</td>\n",
       "    </tr>\n",
       "    <tr>\n",
       "      <th>1</th>\n",
       "      <td>892177421306343426</td>\n",
       "      <td>NaN</td>\n",
       "      <td>NaN</td>\n",
       "      <td>2017-08-01 00:17:27 +0000</td>\n",
       "      <td>&lt;a href=\"http://twitter.com/download/iphone\" r...</td>\n",
       "      <td>This is Tilly. She's just checking pup on you....</td>\n",
       "      <td>NaN</td>\n",
       "      <td>NaN</td>\n",
       "      <td>NaN</td>\n",
       "      <td>https://twitter.com/dog_rates/status/892177421...</td>\n",
       "      <td>13</td>\n",
       "      <td>10</td>\n",
       "      <td>Tilly</td>\n",
       "      <td>None</td>\n",
       "      <td>None</td>\n",
       "      <td>None</td>\n",
       "      <td>None</td>\n",
       "    </tr>\n",
       "  </tbody>\n",
       "</table>\n",
       "</div>"
      ],
      "text/plain": [
       "             tweet_id  in_reply_to_status_id  in_reply_to_user_id  \\\n",
       "0  892420643555336193                    NaN                  NaN   \n",
       "1  892177421306343426                    NaN                  NaN   \n",
       "\n",
       "                   timestamp  \\\n",
       "0  2017-08-01 16:23:56 +0000   \n",
       "1  2017-08-01 00:17:27 +0000   \n",
       "\n",
       "                                              source  \\\n",
       "0  <a href=\"http://twitter.com/download/iphone\" r...   \n",
       "1  <a href=\"http://twitter.com/download/iphone\" r...   \n",
       "\n",
       "                                                text  retweeted_status_id  \\\n",
       "0  This is Phineas. He's a mystical boy. Only eve...                  NaN   \n",
       "1  This is Tilly. She's just checking pup on you....                  NaN   \n",
       "\n",
       "   retweeted_status_user_id retweeted_status_timestamp  \\\n",
       "0                       NaN                        NaN   \n",
       "1                       NaN                        NaN   \n",
       "\n",
       "                                       expanded_urls  rating_numerator  \\\n",
       "0  https://twitter.com/dog_rates/status/892420643...                13   \n",
       "1  https://twitter.com/dog_rates/status/892177421...                13   \n",
       "\n",
       "   rating_denominator     name doggo floofer pupper puppo  \n",
       "0                  10  Phineas  None    None   None  None  \n",
       "1                  10    Tilly  None    None   None  None  "
      ]
     },
     "execution_count": 11,
     "metadata": {},
     "output_type": "execute_result"
    }
   ],
   "source": [
    "archive.head(2)"
   ]
  },
  {
   "cell_type": "code",
   "execution_count": 12,
   "id": "1e606e49",
   "metadata": {},
   "outputs": [
    {
     "data": {
      "text/html": [
       "<div>\n",
       "<style scoped>\n",
       "    .dataframe tbody tr th:only-of-type {\n",
       "        vertical-align: middle;\n",
       "    }\n",
       "\n",
       "    .dataframe tbody tr th {\n",
       "        vertical-align: top;\n",
       "    }\n",
       "\n",
       "    .dataframe thead th {\n",
       "        text-align: right;\n",
       "    }\n",
       "</style>\n",
       "<table border=\"1\" class=\"dataframe\">\n",
       "  <thead>\n",
       "    <tr style=\"text-align: right;\">\n",
       "      <th></th>\n",
       "      <th>tweet_id</th>\n",
       "      <th>jpg_url</th>\n",
       "      <th>img_num</th>\n",
       "      <th>p1</th>\n",
       "      <th>p1_conf</th>\n",
       "      <th>p1_dog</th>\n",
       "      <th>p2</th>\n",
       "      <th>p2_conf</th>\n",
       "      <th>p2_dog</th>\n",
       "      <th>p3</th>\n",
       "      <th>p3_conf</th>\n",
       "      <th>p3_dog</th>\n",
       "    </tr>\n",
       "  </thead>\n",
       "  <tbody>\n",
       "    <tr>\n",
       "      <th>352</th>\n",
       "      <td>672538107540070400</td>\n",
       "      <td>https://pbs.twimg.com/media/CVVV1wJWoAEcOyk.jpg</td>\n",
       "      <td>1</td>\n",
       "      <td>Siamese_cat</td>\n",
       "      <td>0.383937</td>\n",
       "      <td>False</td>\n",
       "      <td>Chihuahua</td>\n",
       "      <td>0.160274</td>\n",
       "      <td>True</td>\n",
       "      <td>giant_panda</td>\n",
       "      <td>0.147745</td>\n",
       "      <td>False</td>\n",
       "    </tr>\n",
       "    <tr>\n",
       "      <th>1854</th>\n",
       "      <td>841077006473256960</td>\n",
       "      <td>https://pbs.twimg.com/media/C6wbE5bXUAAh1Hv.jpg</td>\n",
       "      <td>1</td>\n",
       "      <td>Brittany_spaniel</td>\n",
       "      <td>0.962985</td>\n",
       "      <td>True</td>\n",
       "      <td>Blenheim_spaniel</td>\n",
       "      <td>0.014820</td>\n",
       "      <td>True</td>\n",
       "      <td>clumber</td>\n",
       "      <td>0.009557</td>\n",
       "      <td>True</td>\n",
       "    </tr>\n",
       "  </tbody>\n",
       "</table>\n",
       "</div>"
      ],
      "text/plain": [
       "                tweet_id                                          jpg_url  \\\n",
       "352   672538107540070400  https://pbs.twimg.com/media/CVVV1wJWoAEcOyk.jpg   \n",
       "1854  841077006473256960  https://pbs.twimg.com/media/C6wbE5bXUAAh1Hv.jpg   \n",
       "\n",
       "      img_num                p1   p1_conf  p1_dog                p2   p2_conf  \\\n",
       "352         1       Siamese_cat  0.383937   False         Chihuahua  0.160274   \n",
       "1854        1  Brittany_spaniel  0.962985    True  Blenheim_spaniel  0.014820   \n",
       "\n",
       "      p2_dog           p3   p3_conf  p3_dog  \n",
       "352     True  giant_panda  0.147745   False  \n",
       "1854    True      clumber  0.009557    True  "
      ]
     },
     "execution_count": 12,
     "metadata": {},
     "output_type": "execute_result"
    }
   ],
   "source": [
    "image_prediction.sample(2)"
   ]
  },
  {
   "cell_type": "code",
   "execution_count": 13,
   "id": "3c54d64f",
   "metadata": {},
   "outputs": [
    {
     "data": {
      "text/html": [
       "<div>\n",
       "<style scoped>\n",
       "    .dataframe tbody tr th:only-of-type {\n",
       "        vertical-align: middle;\n",
       "    }\n",
       "\n",
       "    .dataframe tbody tr th {\n",
       "        vertical-align: top;\n",
       "    }\n",
       "\n",
       "    .dataframe thead th {\n",
       "        text-align: right;\n",
       "    }\n",
       "</style>\n",
       "<table border=\"1\" class=\"dataframe\">\n",
       "  <thead>\n",
       "    <tr style=\"text-align: right;\">\n",
       "      <th></th>\n",
       "      <th>tweet_id</th>\n",
       "      <th>jpg_url</th>\n",
       "      <th>img_num</th>\n",
       "      <th>p1</th>\n",
       "      <th>p1_conf</th>\n",
       "      <th>p1_dog</th>\n",
       "      <th>p2</th>\n",
       "      <th>p2_conf</th>\n",
       "      <th>p2_dog</th>\n",
       "      <th>p3</th>\n",
       "      <th>p3_conf</th>\n",
       "      <th>p3_dog</th>\n",
       "    </tr>\n",
       "  </thead>\n",
       "  <tbody>\n",
       "    <tr>\n",
       "      <th>0</th>\n",
       "      <td>666020888022790149</td>\n",
       "      <td>https://pbs.twimg.com/media/CT4udn0WwAA0aMy.jpg</td>\n",
       "      <td>1</td>\n",
       "      <td>Welsh_springer_spaniel</td>\n",
       "      <td>0.465074</td>\n",
       "      <td>True</td>\n",
       "      <td>collie</td>\n",
       "      <td>0.156665</td>\n",
       "      <td>True</td>\n",
       "      <td>Shetland_sheepdog</td>\n",
       "      <td>0.061428</td>\n",
       "      <td>True</td>\n",
       "    </tr>\n",
       "    <tr>\n",
       "      <th>1</th>\n",
       "      <td>666029285002620928</td>\n",
       "      <td>https://pbs.twimg.com/media/CT42GRgUYAA5iDo.jpg</td>\n",
       "      <td>1</td>\n",
       "      <td>redbone</td>\n",
       "      <td>0.506826</td>\n",
       "      <td>True</td>\n",
       "      <td>miniature_pinscher</td>\n",
       "      <td>0.074192</td>\n",
       "      <td>True</td>\n",
       "      <td>Rhodesian_ridgeback</td>\n",
       "      <td>0.072010</td>\n",
       "      <td>True</td>\n",
       "    </tr>\n",
       "    <tr>\n",
       "      <th>2</th>\n",
       "      <td>666033412701032449</td>\n",
       "      <td>https://pbs.twimg.com/media/CT4521TWwAEvMyu.jpg</td>\n",
       "      <td>1</td>\n",
       "      <td>German_shepherd</td>\n",
       "      <td>0.596461</td>\n",
       "      <td>True</td>\n",
       "      <td>malinois</td>\n",
       "      <td>0.138584</td>\n",
       "      <td>True</td>\n",
       "      <td>bloodhound</td>\n",
       "      <td>0.116197</td>\n",
       "      <td>True</td>\n",
       "    </tr>\n",
       "  </tbody>\n",
       "</table>\n",
       "</div>"
      ],
      "text/plain": [
       "             tweet_id                                          jpg_url  \\\n",
       "0  666020888022790149  https://pbs.twimg.com/media/CT4udn0WwAA0aMy.jpg   \n",
       "1  666029285002620928  https://pbs.twimg.com/media/CT42GRgUYAA5iDo.jpg   \n",
       "2  666033412701032449  https://pbs.twimg.com/media/CT4521TWwAEvMyu.jpg   \n",
       "\n",
       "   img_num                      p1   p1_conf  p1_dog                  p2  \\\n",
       "0        1  Welsh_springer_spaniel  0.465074    True              collie   \n",
       "1        1                 redbone  0.506826    True  miniature_pinscher   \n",
       "2        1         German_shepherd  0.596461    True            malinois   \n",
       "\n",
       "    p2_conf  p2_dog                   p3   p3_conf  p3_dog  \n",
       "0  0.156665    True    Shetland_sheepdog  0.061428    True  \n",
       "1  0.074192    True  Rhodesian_ridgeback  0.072010    True  \n",
       "2  0.138584    True           bloodhound  0.116197    True  "
      ]
     },
     "execution_count": 13,
     "metadata": {},
     "output_type": "execute_result"
    }
   ],
   "source": [
    "image_prediction.head(3)"
   ]
  },
  {
   "cell_type": "code",
   "execution_count": 14,
   "id": "ad6357ad",
   "metadata": {},
   "outputs": [
    {
     "data": {
      "text/html": [
       "<div>\n",
       "<style scoped>\n",
       "    .dataframe tbody tr th:only-of-type {\n",
       "        vertical-align: middle;\n",
       "    }\n",
       "\n",
       "    .dataframe tbody tr th {\n",
       "        vertical-align: top;\n",
       "    }\n",
       "\n",
       "    .dataframe thead th {\n",
       "        text-align: right;\n",
       "    }\n",
       "</style>\n",
       "<table border=\"1\" class=\"dataframe\">\n",
       "  <thead>\n",
       "    <tr style=\"text-align: right;\">\n",
       "      <th></th>\n",
       "      <th>id</th>\n",
       "      <th>retweet_count</th>\n",
       "      <th>favorite_count</th>\n",
       "    </tr>\n",
       "  </thead>\n",
       "  <tbody>\n",
       "    <tr>\n",
       "      <th>0</th>\n",
       "      <td>892420643555336193</td>\n",
       "      <td>8853</td>\n",
       "      <td>39467</td>\n",
       "    </tr>\n",
       "    <tr>\n",
       "      <th>1</th>\n",
       "      <td>892177421306343426</td>\n",
       "      <td>6514</td>\n",
       "      <td>33819</td>\n",
       "    </tr>\n",
       "    <tr>\n",
       "      <th>2</th>\n",
       "      <td>891815181378084864</td>\n",
       "      <td>4328</td>\n",
       "      <td>25461</td>\n",
       "    </tr>\n",
       "    <tr>\n",
       "      <th>3</th>\n",
       "      <td>891689557279858688</td>\n",
       "      <td>8964</td>\n",
       "      <td>42908</td>\n",
       "    </tr>\n",
       "    <tr>\n",
       "      <th>4</th>\n",
       "      <td>891327558926688256</td>\n",
       "      <td>9774</td>\n",
       "      <td>41048</td>\n",
       "    </tr>\n",
       "    <tr>\n",
       "      <th>...</th>\n",
       "      <td>...</td>\n",
       "      <td>...</td>\n",
       "      <td>...</td>\n",
       "    </tr>\n",
       "    <tr>\n",
       "      <th>2349</th>\n",
       "      <td>666049248165822465</td>\n",
       "      <td>41</td>\n",
       "      <td>111</td>\n",
       "    </tr>\n",
       "    <tr>\n",
       "      <th>2350</th>\n",
       "      <td>666044226329800704</td>\n",
       "      <td>147</td>\n",
       "      <td>311</td>\n",
       "    </tr>\n",
       "    <tr>\n",
       "      <th>2351</th>\n",
       "      <td>666033412701032449</td>\n",
       "      <td>47</td>\n",
       "      <td>128</td>\n",
       "    </tr>\n",
       "    <tr>\n",
       "      <th>2352</th>\n",
       "      <td>666029285002620928</td>\n",
       "      <td>48</td>\n",
       "      <td>132</td>\n",
       "    </tr>\n",
       "    <tr>\n",
       "      <th>2353</th>\n",
       "      <td>666020888022790149</td>\n",
       "      <td>532</td>\n",
       "      <td>2535</td>\n",
       "    </tr>\n",
       "  </tbody>\n",
       "</table>\n",
       "<p>2354 rows × 3 columns</p>\n",
       "</div>"
      ],
      "text/plain": [
       "                      id  retweet_count  favorite_count\n",
       "0     892420643555336193           8853           39467\n",
       "1     892177421306343426           6514           33819\n",
       "2     891815181378084864           4328           25461\n",
       "3     891689557279858688           8964           42908\n",
       "4     891327558926688256           9774           41048\n",
       "...                  ...            ...             ...\n",
       "2349  666049248165822465             41             111\n",
       "2350  666044226329800704            147             311\n",
       "2351  666033412701032449             47             128\n",
       "2352  666029285002620928             48             132\n",
       "2353  666020888022790149            532            2535\n",
       "\n",
       "[2354 rows x 3 columns]"
      ]
     },
     "execution_count": 14,
     "metadata": {},
     "output_type": "execute_result"
    }
   ],
   "source": [
    "tweet_statistics"
   ]
  },
  {
   "cell_type": "markdown",
   "id": "15b29353",
   "metadata": {},
   "source": [
    "+ programmatic assesment<a name=\"prog\"></a>"
   ]
  },
  {
   "cell_type": "code",
   "execution_count": 15,
   "id": "43c64535",
   "metadata": {},
   "outputs": [
    {
     "name": "stdout",
     "output_type": "stream",
     "text": [
      "<class 'pandas.core.frame.DataFrame'>\n",
      "RangeIndex: 2356 entries, 0 to 2355\n",
      "Data columns (total 17 columns):\n",
      " #   Column                      Non-Null Count  Dtype  \n",
      "---  ------                      --------------  -----  \n",
      " 0   tweet_id                    2356 non-null   int64  \n",
      " 1   in_reply_to_status_id       78 non-null     float64\n",
      " 2   in_reply_to_user_id         78 non-null     float64\n",
      " 3   timestamp                   2356 non-null   object \n",
      " 4   source                      2356 non-null   object \n",
      " 5   text                        2356 non-null   object \n",
      " 6   retweeted_status_id         181 non-null    float64\n",
      " 7   retweeted_status_user_id    181 non-null    float64\n",
      " 8   retweeted_status_timestamp  181 non-null    object \n",
      " 9   expanded_urls               2297 non-null   object \n",
      " 10  rating_numerator            2356 non-null   int64  \n",
      " 11  rating_denominator          2356 non-null   int64  \n",
      " 12  name                        2356 non-null   object \n",
      " 13  doggo                       2356 non-null   object \n",
      " 14  floofer                     2356 non-null   object \n",
      " 15  pupper                      2356 non-null   object \n",
      " 16  puppo                       2356 non-null   object \n",
      "dtypes: float64(4), int64(3), object(10)\n",
      "memory usage: 313.0+ KB\n"
     ]
    }
   ],
   "source": [
    "archive.info()"
   ]
  },
  {
   "cell_type": "code",
   "execution_count": 16,
   "id": "b6750005",
   "metadata": {},
   "outputs": [
    {
     "data": {
      "text/plain": [
       "181"
      ]
     },
     "execution_count": 16,
     "metadata": {},
     "output_type": "execute_result"
    }
   ],
   "source": [
    "archive.retweeted_status_id.nunique()"
   ]
  },
  {
   "cell_type": "code",
   "execution_count": 17,
   "id": "42404238",
   "metadata": {},
   "outputs": [
    {
     "data": {
      "text/plain": [
       "2175"
      ]
     },
     "execution_count": 17,
     "metadata": {},
     "output_type": "execute_result"
    }
   ],
   "source": [
    "sum(archive.retweeted_status_timestamp.isnull())"
   ]
  },
  {
   "cell_type": "code",
   "execution_count": 18,
   "id": "b1eb5fce",
   "metadata": {},
   "outputs": [
    {
     "data": {
      "text/plain": [
       "None       2346\n",
       "floofer      10\n",
       "Name: floofer, dtype: int64"
      ]
     },
     "execution_count": 18,
     "metadata": {},
     "output_type": "execute_result"
    }
   ],
   "source": [
    "archive.floofer.value_counts()"
   ]
  },
  {
   "cell_type": "code",
   "execution_count": 19,
   "id": "10f65dba",
   "metadata": {},
   "outputs": [
    {
     "data": {
      "text/plain": [
       "None          745\n",
       "a              55\n",
       "Charlie        12\n",
       "Cooper         11\n",
       "Lucy           11\n",
       "             ... \n",
       "Dex             1\n",
       "Ace             1\n",
       "Tayzie          1\n",
       "Grizzie         1\n",
       "Christoper      1\n",
       "Name: name, Length: 957, dtype: int64"
      ]
     },
     "execution_count": 19,
     "metadata": {},
     "output_type": "execute_result"
    }
   ],
   "source": [
    "archive.name.value_counts()\n"
   ]
  },
  {
   "cell_type": "code",
   "execution_count": 20,
   "id": "43ffb7da",
   "metadata": {},
   "outputs": [
    {
     "name": "stdout",
     "output_type": "stream",
     "text": [
      "<class 'pandas.core.frame.DataFrame'>\n",
      "RangeIndex: 2075 entries, 0 to 2074\n",
      "Data columns (total 12 columns):\n",
      " #   Column    Non-Null Count  Dtype  \n",
      "---  ------    --------------  -----  \n",
      " 0   tweet_id  2075 non-null   int64  \n",
      " 1   jpg_url   2075 non-null   object \n",
      " 2   img_num   2075 non-null   int64  \n",
      " 3   p1        2075 non-null   object \n",
      " 4   p1_conf   2075 non-null   float64\n",
      " 5   p1_dog    2075 non-null   bool   \n",
      " 6   p2        2075 non-null   object \n",
      " 7   p2_conf   2075 non-null   float64\n",
      " 8   p2_dog    2075 non-null   bool   \n",
      " 9   p3        2075 non-null   object \n",
      " 10  p3_conf   2075 non-null   float64\n",
      " 11  p3_dog    2075 non-null   bool   \n",
      "dtypes: bool(3), float64(3), int64(2), object(4)\n",
      "memory usage: 152.1+ KB\n"
     ]
    }
   ],
   "source": [
    "image_prediction.info()"
   ]
  },
  {
   "cell_type": "code",
   "execution_count": 21,
   "id": "b93e2f59",
   "metadata": {},
   "outputs": [
    {
     "name": "stdout",
     "output_type": "stream",
     "text": [
      "<class 'pandas.core.frame.DataFrame'>\n",
      "RangeIndex: 2354 entries, 0 to 2353\n",
      "Data columns (total 3 columns):\n",
      " #   Column          Non-Null Count  Dtype\n",
      "---  ------          --------------  -----\n",
      " 0   id              2354 non-null   int64\n",
      " 1   retweet_count   2354 non-null   int64\n",
      " 2   favorite_count  2354 non-null   int64\n",
      "dtypes: int64(3)\n",
      "memory usage: 55.3 KB\n"
     ]
    }
   ],
   "source": [
    "tweet_statistics.info()"
   ]
  },
  {
   "cell_type": "markdown",
   "id": "21991ec9",
   "metadata": {},
   "source": [
    "### _Quality Issues_<a name=\"quality\"><a/>"
   ]
  },
  {
   "cell_type": "markdown",
   "id": "b605bed4",
   "metadata": {},
   "source": [
    "+ _In archive:_"
   ]
  },
  {
   "cell_type": "markdown",
   "id": "8e33cd5f",
   "metadata": {},
   "source": [
    "1. Incorrect datatype (timestamp,tweet_id columns)\n",
    "3. missing values in_reply_to_status_id,in_reply_to_user_id ,retweeted_status_id,retweeted_status_user_id and retweeted_status_timestamp columns\n",
    "4. invalid dog names like a, such, getting etc. \n",
    "5. Remove retweets as original dog ratings are required."
   ]
  },
  {
   "cell_type": "markdown",
   "id": "ff4253bc",
   "metadata": {},
   "source": [
    "_In image_prediction:_"
   ]
  },
  {
   "cell_type": "markdown",
   "id": "73bbc7fd",
   "metadata": {},
   "source": [
    "5. incorrect datatype\n",
    "6. Column headers should be more descriptive (i.e change img_num, p1, p1_conf, p1_dog, etc.)."
   ]
  },
  {
   "cell_type": "markdown",
   "id": "ba855558",
   "metadata": {},
   "source": [
    "_In tweet_statistics:_"
   ]
  },
  {
   "cell_type": "markdown",
   "id": "1feebe6e",
   "metadata": {},
   "source": [
    "7. incorrect datatype (the id datatype should be string and not integer)\n",
    "8. Inconsistent column name(the  id column name does not match that of the other dataframes)"
   ]
  },
  {
   "cell_type": "markdown",
   "id": "61cee4f8",
   "metadata": {},
   "source": [
    "### _Tidiness Issues_<a name=\"tidy\"></a>"
   ]
  },
  {
   "cell_type": "markdown",
   "id": "8369ed63",
   "metadata": {},
   "source": [
    "+ doggo,pupper,puppo,floofer should be in a single \"dog_stage\" column\n",
    "+ Information about one type of observational unit (tweet_id) is spread across three different files/dataframes\n",
    "\n"
   ]
  },
  {
   "cell_type": "markdown",
   "id": "7e7aa875",
   "metadata": {},
   "source": [
    "## Cleaning the data<a name=\"clean\"></a>\n"
   ]
  },
  {
   "cell_type": "markdown",
   "id": "04969033",
   "metadata": {},
   "source": [
    "+ __Define__"
   ]
  },
  {
   "cell_type": "markdown",
   "id": "eda040e2",
   "metadata": {},
   "source": [
    "1. create copies of the archive table\n",
    "1. rename the \"id\" column in tweet_statistics to \"tweet_id\" so that it can match the others\n",
    "3.  replace the column names in image prediction with more descriptive names"
   ]
  },
  {
   "cell_type": "code",
   "execution_count": 22,
   "id": "971f8287",
   "metadata": {},
   "outputs": [],
   "source": [
    "archive_copy = archive.copy()\n",
    "image_prediction_copy=image_prediction.copy()"
   ]
  },
  {
   "cell_type": "code",
   "execution_count": 23,
   "id": "b54d2d39",
   "metadata": {},
   "outputs": [],
   "source": [
    "#rename id column\n",
    "tweet_statistics.rename(columns={\"id\":\"tweet_id\"}, inplace=True)\n",
    "image_prediction_copy.rename(columns={'p1':\"ImagePrediction_1\",\"p1_conf\":\"PredictionConfidence_1\",\"p1_dog\":\"accuracy_1\",\n",
    "                                \"p2\":\"ImagePrediction_2\",\"p2_conf\":\"PredictionConfidence_2\",\"p2_dog\":\"accuracy_2\",\n",
    "                                \"p3\":\"ImagePrediction_3\",\"p3_conf\":\"PredictionConfidence_3\",\"p3_dog\":\"accuracy_3\"},inplace=True)"
   ]
  },
  {
   "cell_type": "markdown",
   "id": "c75744b6",
   "metadata": {},
   "source": [
    "+ __Test__"
   ]
  },
  {
   "cell_type": "code",
   "execution_count": 24,
   "id": "01c8dba7",
   "metadata": {},
   "outputs": [
    {
     "data": {
      "text/html": [
       "<div>\n",
       "<style scoped>\n",
       "    .dataframe tbody tr th:only-of-type {\n",
       "        vertical-align: middle;\n",
       "    }\n",
       "\n",
       "    .dataframe tbody tr th {\n",
       "        vertical-align: top;\n",
       "    }\n",
       "\n",
       "    .dataframe thead th {\n",
       "        text-align: right;\n",
       "    }\n",
       "</style>\n",
       "<table border=\"1\" class=\"dataframe\">\n",
       "  <thead>\n",
       "    <tr style=\"text-align: right;\">\n",
       "      <th></th>\n",
       "      <th>tweet_id</th>\n",
       "      <th>retweet_count</th>\n",
       "      <th>favorite_count</th>\n",
       "    </tr>\n",
       "  </thead>\n",
       "  <tbody>\n",
       "    <tr>\n",
       "      <th>0</th>\n",
       "      <td>892420643555336193</td>\n",
       "      <td>8853</td>\n",
       "      <td>39467</td>\n",
       "    </tr>\n",
       "    <tr>\n",
       "      <th>1</th>\n",
       "      <td>892177421306343426</td>\n",
       "      <td>6514</td>\n",
       "      <td>33819</td>\n",
       "    </tr>\n",
       "    <tr>\n",
       "      <th>2</th>\n",
       "      <td>891815181378084864</td>\n",
       "      <td>4328</td>\n",
       "      <td>25461</td>\n",
       "    </tr>\n",
       "    <tr>\n",
       "      <th>3</th>\n",
       "      <td>891689557279858688</td>\n",
       "      <td>8964</td>\n",
       "      <td>42908</td>\n",
       "    </tr>\n",
       "    <tr>\n",
       "      <th>4</th>\n",
       "      <td>891327558926688256</td>\n",
       "      <td>9774</td>\n",
       "      <td>41048</td>\n",
       "    </tr>\n",
       "    <tr>\n",
       "      <th>...</th>\n",
       "      <td>...</td>\n",
       "      <td>...</td>\n",
       "      <td>...</td>\n",
       "    </tr>\n",
       "    <tr>\n",
       "      <th>2349</th>\n",
       "      <td>666049248165822465</td>\n",
       "      <td>41</td>\n",
       "      <td>111</td>\n",
       "    </tr>\n",
       "    <tr>\n",
       "      <th>2350</th>\n",
       "      <td>666044226329800704</td>\n",
       "      <td>147</td>\n",
       "      <td>311</td>\n",
       "    </tr>\n",
       "    <tr>\n",
       "      <th>2351</th>\n",
       "      <td>666033412701032449</td>\n",
       "      <td>47</td>\n",
       "      <td>128</td>\n",
       "    </tr>\n",
       "    <tr>\n",
       "      <th>2352</th>\n",
       "      <td>666029285002620928</td>\n",
       "      <td>48</td>\n",
       "      <td>132</td>\n",
       "    </tr>\n",
       "    <tr>\n",
       "      <th>2353</th>\n",
       "      <td>666020888022790149</td>\n",
       "      <td>532</td>\n",
       "      <td>2535</td>\n",
       "    </tr>\n",
       "  </tbody>\n",
       "</table>\n",
       "<p>2354 rows × 3 columns</p>\n",
       "</div>"
      ],
      "text/plain": [
       "                tweet_id  retweet_count  favorite_count\n",
       "0     892420643555336193           8853           39467\n",
       "1     892177421306343426           6514           33819\n",
       "2     891815181378084864           4328           25461\n",
       "3     891689557279858688           8964           42908\n",
       "4     891327558926688256           9774           41048\n",
       "...                  ...            ...             ...\n",
       "2349  666049248165822465             41             111\n",
       "2350  666044226329800704            147             311\n",
       "2351  666033412701032449             47             128\n",
       "2352  666029285002620928             48             132\n",
       "2353  666020888022790149            532            2535\n",
       "\n",
       "[2354 rows x 3 columns]"
      ]
     },
     "execution_count": 24,
     "metadata": {},
     "output_type": "execute_result"
    }
   ],
   "source": [
    "tweet_statistics"
   ]
  },
  {
   "cell_type": "code",
   "execution_count": 25,
   "id": "46c8778a",
   "metadata": {},
   "outputs": [
    {
     "name": "stdout",
     "output_type": "stream",
     "text": [
      "<class 'pandas.core.frame.DataFrame'>\n",
      "RangeIndex: 2075 entries, 0 to 2074\n",
      "Data columns (total 12 columns):\n",
      " #   Column                  Non-Null Count  Dtype  \n",
      "---  ------                  --------------  -----  \n",
      " 0   tweet_id                2075 non-null   int64  \n",
      " 1   jpg_url                 2075 non-null   object \n",
      " 2   img_num                 2075 non-null   int64  \n",
      " 3   ImagePrediction_1       2075 non-null   object \n",
      " 4   PredictionConfidence_1  2075 non-null   float64\n",
      " 5   accuracy_1              2075 non-null   bool   \n",
      " 6   ImagePrediction_2       2075 non-null   object \n",
      " 7   PredictionConfidence_2  2075 non-null   float64\n",
      " 8   accuracy_2              2075 non-null   bool   \n",
      " 9   ImagePrediction_3       2075 non-null   object \n",
      " 10  PredictionConfidence_3  2075 non-null   float64\n",
      " 11  accuracy_3              2075 non-null   bool   \n",
      "dtypes: bool(3), float64(3), int64(2), object(4)\n",
      "memory usage: 152.1+ KB\n"
     ]
    }
   ],
   "source": [
    "image_prediction_copy.info()"
   ]
  },
  {
   "cell_type": "markdown",
   "id": "a04d6e8e",
   "metadata": {},
   "source": [
    "+ __Define__"
   ]
  },
  {
   "cell_type": "markdown",
   "id": "bd181f20",
   "metadata": {},
   "source": [
    "4. remove the Nan values by dropping the 'retweeted_status_id','retweeted_status_user_id', 'retweeted_status_timestamp', \"in_reply_to_status_id\", \"in_reply_to_user_id\"] columns\n",
    "5. convert tweet id to striing in all dataframes\n",
    "6. convert timestamp datatype from string to date time\n",
    "7. remove retweets by selecting only rows that have null values in retweet related columns,\n",
    "8. remove invalid dog names like a, such, getting etc\n",
    "9. convert None in doggo, floofer, pupper, puppo columns to null np.nan.\n"
   ]
  },
  {
   "cell_type": "code",
   "execution_count": 26,
   "id": "4d5193c4",
   "metadata": {},
   "outputs": [],
   "source": [
    "#remove invalid dog names\n",
    "for index,row in archive_copy.iterrows():\n",
    "    if row['name'].islower() or row['name']==\"None\":\n",
    "        archive_copy.loc[index,'name']=archive_copy.loc[index,'name'].replace(row['name'],'')"
   ]
  },
  {
   "cell_type": "code",
   "execution_count": 27,
   "id": "812ab09c",
   "metadata": {},
   "outputs": [],
   "source": [
    "#remove retweet\n",
    "archive_copy = archive_copy[archive_copy.retweeted_status_id.isnull()]\n",
    "archive_copy = archive_copy[archive_copy.retweeted_status_user_id.isnull()]\n",
    "archive_copy = archive_copy[archive_copy.retweeted_status_timestamp.isnull()]"
   ]
  },
  {
   "cell_type": "code",
   "execution_count": 28,
   "id": "cbeb0777",
   "metadata": {},
   "outputs": [],
   "source": [
    "# Dropping columns with Nan Values\n",
    "archive_copy = archive_copy.drop(['retweeted_status_id','retweeted_status_user_id', \n",
    "                          'retweeted_status_timestamp', \"in_reply_to_status_id\", \"in_reply_to_user_id\"],axis=1)"
   ]
  },
  {
   "cell_type": "code",
   "execution_count": 29,
   "id": "d269b771",
   "metadata": {},
   "outputs": [],
   "source": [
    "#converting tweet_id to string\n",
    "archive_copy['tweet_id']=archive_copy['tweet_id'].astype('str')\n",
    "image_prediction_copy['tweet_id']=image_prediction_copy['tweet_id'].astype('str')\n",
    "tweet_statistics['tweet_id']=image_prediction_copy['tweet_id'].astype('str')"
   ]
  },
  {
   "cell_type": "code",
   "execution_count": 30,
   "id": "c7d23ae9",
   "metadata": {},
   "outputs": [],
   "source": [
    "#converting timestamp to datetime\n",
    "archive_copy['timestamp']=pd.to_datetime(archive_copy['timestamp'])"
   ]
  },
  {
   "cell_type": "markdown",
   "id": "8b66c8a1",
   "metadata": {},
   "source": [
    "+ __Test__"
   ]
  },
  {
   "cell_type": "code",
   "execution_count": 31,
   "id": "6476a3f8",
   "metadata": {},
   "outputs": [
    {
     "name": "stdout",
     "output_type": "stream",
     "text": [
      "<class 'pandas.core.frame.DataFrame'>\n",
      "Int64Index: 2175 entries, 0 to 2355\n",
      "Data columns (total 12 columns):\n",
      " #   Column              Non-Null Count  Dtype              \n",
      "---  ------              --------------  -----              \n",
      " 0   tweet_id            2175 non-null   object             \n",
      " 1   timestamp           2175 non-null   datetime64[ns, UTC]\n",
      " 2   source              2175 non-null   object             \n",
      " 3   text                2175 non-null   object             \n",
      " 4   expanded_urls       2117 non-null   object             \n",
      " 5   rating_numerator    2175 non-null   int64              \n",
      " 6   rating_denominator  2175 non-null   int64              \n",
      " 7   name                2175 non-null   object             \n",
      " 8   doggo               2175 non-null   object             \n",
      " 9   floofer             2175 non-null   object             \n",
      " 10  pupper              2175 non-null   object             \n",
      " 11  puppo               2175 non-null   object             \n",
      "dtypes: datetime64[ns, UTC](1), int64(2), object(9)\n",
      "memory usage: 220.9+ KB\n"
     ]
    }
   ],
   "source": [
    "archive_copy.info()"
   ]
  },
  {
   "cell_type": "code",
   "execution_count": 32,
   "id": "814804da",
   "metadata": {},
   "outputs": [],
   "source": [
    "#replace None in dogstage columns with empty string as .\n",
    "archive_copy.doggo.replace('None', '', inplace=True)\n",
    "archive_copy.floofer.replace('None','',inplace=True)\n",
    "archive_copy.puppo.replace('None','',inplace=True)\n",
    "archive_copy.pupper.replace('None','',inplace=True)\n"
   ]
  },
  {
   "cell_type": "markdown",
   "id": "a17e3baf",
   "metadata": {},
   "source": [
    "__Define(tidiness)__\n",
    "\n",
    "9. convert doggo.puppo,pupper and floofer columns\n",
    "10. merge the tables"
   ]
  },
  {
   "cell_type": "code",
   "execution_count": 33,
   "id": "43e067fd",
   "metadata": {},
   "outputs": [],
   "source": [
    "#combine stage columns.\n",
    "archive_copy['dog_stage'] = archive_copy.doggo + archive_copy.floofer + archive_copy.pupper + archive_copy.puppo"
   ]
  },
  {
   "cell_type": "code",
   "execution_count": 34,
   "id": "ede121b1",
   "metadata": {},
   "outputs": [],
   "source": [
    "#format entries with multiple dog stages which appeared like doggopupper.\n",
    "\n",
    "archive_copy.loc[archive_copy.dog_stage == 'doggopupper', 'dog_stage'] = 'doggo,pupper' \n",
    "archive_copy.loc[archive_copy.dog_stage == 'doggopuppo', 'dog_stage'] = 'doggo,puppo' \n",
    "archive_copy.loc[archive_copy.dog_stage == 'doggofloofer', 'dog_stage'] = 'doggo,floofer'"
   ]
  },
  {
   "cell_type": "markdown",
   "id": "f567889f",
   "metadata": {},
   "source": [
    "__Test__"
   ]
  },
  {
   "cell_type": "code",
   "execution_count": 35,
   "id": "7db7379d",
   "metadata": {},
   "outputs": [
    {
     "data": {
      "text/html": [
       "<div>\n",
       "<style scoped>\n",
       "    .dataframe tbody tr th:only-of-type {\n",
       "        vertical-align: middle;\n",
       "    }\n",
       "\n",
       "    .dataframe tbody tr th {\n",
       "        vertical-align: top;\n",
       "    }\n",
       "\n",
       "    .dataframe thead th {\n",
       "        text-align: right;\n",
       "    }\n",
       "</style>\n",
       "<table border=\"1\" class=\"dataframe\">\n",
       "  <thead>\n",
       "    <tr style=\"text-align: right;\">\n",
       "      <th></th>\n",
       "      <th>tweet_id</th>\n",
       "      <th>timestamp</th>\n",
       "      <th>source</th>\n",
       "      <th>text</th>\n",
       "      <th>expanded_urls</th>\n",
       "      <th>rating_numerator</th>\n",
       "      <th>rating_denominator</th>\n",
       "      <th>name</th>\n",
       "      <th>doggo</th>\n",
       "      <th>floofer</th>\n",
       "      <th>pupper</th>\n",
       "      <th>puppo</th>\n",
       "      <th>dog_stage</th>\n",
       "    </tr>\n",
       "  </thead>\n",
       "  <tbody>\n",
       "    <tr>\n",
       "      <th>665</th>\n",
       "      <td>790698755171364864</td>\n",
       "      <td>2016-10-24 23:37:28+00:00</td>\n",
       "      <td>&lt;a href=\"http://twitter.com/download/iphone\" r...</td>\n",
       "      <td>This is Mosby. He appears to be rather h*ckin ...</td>\n",
       "      <td>https://twitter.com/dog_rates/status/790698755...</td>\n",
       "      <td>12</td>\n",
       "      <td>10</td>\n",
       "      <td>Mosby</td>\n",
       "      <td></td>\n",
       "      <td></td>\n",
       "      <td></td>\n",
       "      <td></td>\n",
       "      <td></td>\n",
       "    </tr>\n",
       "    <tr>\n",
       "      <th>1293</th>\n",
       "      <td>708026248782585858</td>\n",
       "      <td>2016-03-10 20:26:26+00:00</td>\n",
       "      <td>&lt;a href=\"http://twitter.com/download/iphone\" r...</td>\n",
       "      <td>Everybody stop what you're doing and watch thi...</td>\n",
       "      <td>https://twitter.com/dog_rates/status/708026248...</td>\n",
       "      <td>13</td>\n",
       "      <td>10</td>\n",
       "      <td></td>\n",
       "      <td></td>\n",
       "      <td></td>\n",
       "      <td></td>\n",
       "      <td></td>\n",
       "      <td></td>\n",
       "    </tr>\n",
       "    <tr>\n",
       "      <th>1584</th>\n",
       "      <td>687096057537363968</td>\n",
       "      <td>2016-01-13 02:17:20+00:00</td>\n",
       "      <td>&lt;a href=\"http://twitter.com/download/iphone\" r...</td>\n",
       "      <td>This pupper's New Year's resolution was to bec...</td>\n",
       "      <td>https://twitter.com/dog_rates/status/687096057...</td>\n",
       "      <td>11</td>\n",
       "      <td>10</td>\n",
       "      <td></td>\n",
       "      <td></td>\n",
       "      <td></td>\n",
       "      <td>pupper</td>\n",
       "      <td></td>\n",
       "      <td>pupper</td>\n",
       "    </tr>\n",
       "    <tr>\n",
       "      <th>120</th>\n",
       "      <td>869702957897576449</td>\n",
       "      <td>2017-05-30 23:51:58+00:00</td>\n",
       "      <td>&lt;a href=\"http://twitter.com/download/iphone\" r...</td>\n",
       "      <td>Meet Stanley. He likes road trips. Will shift ...</td>\n",
       "      <td>https://twitter.com/dog_rates/status/869702957...</td>\n",
       "      <td>13</td>\n",
       "      <td>10</td>\n",
       "      <td>Stanley</td>\n",
       "      <td></td>\n",
       "      <td></td>\n",
       "      <td></td>\n",
       "      <td></td>\n",
       "      <td></td>\n",
       "    </tr>\n",
       "    <tr>\n",
       "      <th>1921</th>\n",
       "      <td>674262580978937856</td>\n",
       "      <td>2015-12-08 16:21:41+00:00</td>\n",
       "      <td>&lt;a href=\"http://twitter.com/download/iphone\" r...</td>\n",
       "      <td>This is Gus. He's super stoked about being an ...</td>\n",
       "      <td>https://twitter.com/dog_rates/status/674262580...</td>\n",
       "      <td>9</td>\n",
       "      <td>10</td>\n",
       "      <td>Gus</td>\n",
       "      <td></td>\n",
       "      <td></td>\n",
       "      <td>pupper</td>\n",
       "      <td></td>\n",
       "      <td>pupper</td>\n",
       "    </tr>\n",
       "  </tbody>\n",
       "</table>\n",
       "</div>"
      ],
      "text/plain": [
       "                tweet_id                 timestamp  \\\n",
       "665   790698755171364864 2016-10-24 23:37:28+00:00   \n",
       "1293  708026248782585858 2016-03-10 20:26:26+00:00   \n",
       "1584  687096057537363968 2016-01-13 02:17:20+00:00   \n",
       "120   869702957897576449 2017-05-30 23:51:58+00:00   \n",
       "1921  674262580978937856 2015-12-08 16:21:41+00:00   \n",
       "\n",
       "                                                 source  \\\n",
       "665   <a href=\"http://twitter.com/download/iphone\" r...   \n",
       "1293  <a href=\"http://twitter.com/download/iphone\" r...   \n",
       "1584  <a href=\"http://twitter.com/download/iphone\" r...   \n",
       "120   <a href=\"http://twitter.com/download/iphone\" r...   \n",
       "1921  <a href=\"http://twitter.com/download/iphone\" r...   \n",
       "\n",
       "                                                   text  \\\n",
       "665   This is Mosby. He appears to be rather h*ckin ...   \n",
       "1293  Everybody stop what you're doing and watch thi...   \n",
       "1584  This pupper's New Year's resolution was to bec...   \n",
       "120   Meet Stanley. He likes road trips. Will shift ...   \n",
       "1921  This is Gus. He's super stoked about being an ...   \n",
       "\n",
       "                                          expanded_urls  rating_numerator  \\\n",
       "665   https://twitter.com/dog_rates/status/790698755...                12   \n",
       "1293  https://twitter.com/dog_rates/status/708026248...                13   \n",
       "1584  https://twitter.com/dog_rates/status/687096057...                11   \n",
       "120   https://twitter.com/dog_rates/status/869702957...                13   \n",
       "1921  https://twitter.com/dog_rates/status/674262580...                 9   \n",
       "\n",
       "      rating_denominator     name doggo floofer  pupper puppo dog_stage  \n",
       "665                   10    Mosby                                        \n",
       "1293                  10                                                 \n",
       "1584                  10                         pupper          pupper  \n",
       "120                   10  Stanley                                        \n",
       "1921                  10      Gus                pupper          pupper  "
      ]
     },
     "execution_count": 35,
     "metadata": {},
     "output_type": "execute_result"
    }
   ],
   "source": [
    "archive_copy.sample(5)"
   ]
  },
  {
   "cell_type": "code",
   "execution_count": 36,
   "id": "aecf5d26",
   "metadata": {},
   "outputs": [
    {
     "data": {
      "text/plain": [
       "                 1831\n",
       "pupper            224\n",
       "doggo              75\n",
       "puppo              24\n",
       "doggo,pupper       10\n",
       "floofer             9\n",
       "doggo,puppo         1\n",
       "doggo,floofer       1\n",
       "Name: dog_stage, dtype: int64"
      ]
     },
     "execution_count": 36,
     "metadata": {},
     "output_type": "execute_result"
    }
   ],
   "source": [
    "archive_copy.dog_stage.value_counts()"
   ]
  },
  {
   "cell_type": "code",
   "execution_count": 37,
   "id": "311af9bc",
   "metadata": {},
   "outputs": [],
   "source": [
    "#remove the converted columns\n",
    "archive_copy.drop(['doggo','floofer','puppo','pupper'],axis=1,inplace=True)"
   ]
  },
  {
   "cell_type": "code",
   "execution_count": 38,
   "id": "607e5d7e",
   "metadata": {},
   "outputs": [
    {
     "data": {
      "text/html": [
       "<div>\n",
       "<style scoped>\n",
       "    .dataframe tbody tr th:only-of-type {\n",
       "        vertical-align: middle;\n",
       "    }\n",
       "\n",
       "    .dataframe tbody tr th {\n",
       "        vertical-align: top;\n",
       "    }\n",
       "\n",
       "    .dataframe thead th {\n",
       "        text-align: right;\n",
       "    }\n",
       "</style>\n",
       "<table border=\"1\" class=\"dataframe\">\n",
       "  <thead>\n",
       "    <tr style=\"text-align: right;\">\n",
       "      <th></th>\n",
       "      <th>tweet_id</th>\n",
       "      <th>timestamp</th>\n",
       "      <th>source</th>\n",
       "      <th>text</th>\n",
       "      <th>expanded_urls</th>\n",
       "      <th>rating_numerator</th>\n",
       "      <th>rating_denominator</th>\n",
       "      <th>name</th>\n",
       "      <th>dog_stage</th>\n",
       "    </tr>\n",
       "  </thead>\n",
       "  <tbody>\n",
       "    <tr>\n",
       "      <th>269</th>\n",
       "      <td>841320156043304961</td>\n",
       "      <td>2017-03-13 16:08:50+00:00</td>\n",
       "      <td>&lt;a href=\"http://twitter.com/download/iphone\" r...</td>\n",
       "      <td>We don't rate penguins, but if we did, this on...</td>\n",
       "      <td>https://twitter.com/abc/status/841311395547250688</td>\n",
       "      <td>12</td>\n",
       "      <td>10</td>\n",
       "      <td></td>\n",
       "      <td></td>\n",
       "    </tr>\n",
       "    <tr>\n",
       "      <th>470</th>\n",
       "      <td>816816676327063552</td>\n",
       "      <td>2017-01-05 01:20:46+00:00</td>\n",
       "      <td>&lt;a href=\"http://twitter.com/download/iphone\" r...</td>\n",
       "      <td>This is Timber. He misses Christmas. Specifica...</td>\n",
       "      <td>https://twitter.com/dog_rates/status/816816676...</td>\n",
       "      <td>12</td>\n",
       "      <td>10</td>\n",
       "      <td>Timber</td>\n",
       "      <td></td>\n",
       "    </tr>\n",
       "  </tbody>\n",
       "</table>\n",
       "</div>"
      ],
      "text/plain": [
       "               tweet_id                 timestamp  \\\n",
       "269  841320156043304961 2017-03-13 16:08:50+00:00   \n",
       "470  816816676327063552 2017-01-05 01:20:46+00:00   \n",
       "\n",
       "                                                source  \\\n",
       "269  <a href=\"http://twitter.com/download/iphone\" r...   \n",
       "470  <a href=\"http://twitter.com/download/iphone\" r...   \n",
       "\n",
       "                                                  text  \\\n",
       "269  We don't rate penguins, but if we did, this on...   \n",
       "470  This is Timber. He misses Christmas. Specifica...   \n",
       "\n",
       "                                         expanded_urls  rating_numerator  \\\n",
       "269  https://twitter.com/abc/status/841311395547250688                12   \n",
       "470  https://twitter.com/dog_rates/status/816816676...                12   \n",
       "\n",
       "     rating_denominator    name dog_stage  \n",
       "269                  10                    \n",
       "470                  10  Timber            "
      ]
     },
     "execution_count": 38,
     "metadata": {},
     "output_type": "execute_result"
    }
   ],
   "source": [
    "archive_copy.sample(2)"
   ]
  },
  {
   "cell_type": "code",
   "execution_count": 39,
   "id": "24105311",
   "metadata": {},
   "outputs": [],
   "source": [
    "#change the empty rows in dogstage to nan\n",
    "archive_copy.dog_stage.replace('',np.nan,inplace=True)"
   ]
  },
  {
   "cell_type": "code",
   "execution_count": 40,
   "id": "7fae9f79",
   "metadata": {},
   "outputs": [],
   "source": [
    "#change the empty rows in name to nan\n",
    "archive_copy.name.replace('',np.nan,inplace=True)"
   ]
  },
  {
   "cell_type": "code",
   "execution_count": 41,
   "id": "02b76550",
   "metadata": {},
   "outputs": [],
   "source": [
    "#merge the arhive_copy and tweet statistics\n",
    "archive_copy=pd.merge(archive_copy,tweet_statistics,left_on='tweet_id',right_on='tweet_id',how='left')"
   ]
  },
  {
   "cell_type": "code",
   "execution_count": 42,
   "id": "3840e2c0",
   "metadata": {},
   "outputs": [],
   "source": [
    "#merge archive copy and image pred\n",
    "archive_copy=pd.merge(archive_copy,image_prediction_copy,left_on='tweet_id',right_on='tweet_id',how='left')"
   ]
  },
  {
   "cell_type": "markdown",
   "id": "ecbbce9c",
   "metadata": {},
   "source": [
    "+ __Test__"
   ]
  },
  {
   "cell_type": "code",
   "execution_count": 43,
   "id": "0b502b5d",
   "metadata": {},
   "outputs": [
    {
     "name": "stdout",
     "output_type": "stream",
     "text": [
      "<class 'pandas.core.frame.DataFrame'>\n",
      "Int64Index: 2175 entries, 0 to 2174\n",
      "Data columns (total 22 columns):\n",
      " #   Column                  Non-Null Count  Dtype              \n",
      "---  ------                  --------------  -----              \n",
      " 0   tweet_id                2175 non-null   object             \n",
      " 1   timestamp               2175 non-null   datetime64[ns, UTC]\n",
      " 2   source                  2175 non-null   object             \n",
      " 3   text                    2175 non-null   object             \n",
      " 4   expanded_urls           2117 non-null   object             \n",
      " 5   rating_numerator        2175 non-null   int64              \n",
      " 6   rating_denominator      2175 non-null   int64              \n",
      " 7   name                    1391 non-null   object             \n",
      " 8   dog_stage               344 non-null    object             \n",
      " 9   retweet_count           1994 non-null   float64            \n",
      " 10  favorite_count          1994 non-null   float64            \n",
      " 11  jpg_url                 1994 non-null   object             \n",
      " 12  img_num                 1994 non-null   float64            \n",
      " 13  ImagePrediction_1       1994 non-null   object             \n",
      " 14  PredictionConfidence_1  1994 non-null   float64            \n",
      " 15  accuracy_1              1994 non-null   object             \n",
      " 16  ImagePrediction_2       1994 non-null   object             \n",
      " 17  PredictionConfidence_2  1994 non-null   float64            \n",
      " 18  accuracy_2              1994 non-null   object             \n",
      " 19  ImagePrediction_3       1994 non-null   object             \n",
      " 20  PredictionConfidence_3  1994 non-null   float64            \n",
      " 21  accuracy_3              1994 non-null   object             \n",
      "dtypes: datetime64[ns, UTC](1), float64(6), int64(2), object(13)\n",
      "memory usage: 390.8+ KB\n"
     ]
    }
   ],
   "source": [
    "archive_copy.info()"
   ]
  },
  {
   "cell_type": "code",
   "execution_count": 44,
   "id": "367816e2",
   "metadata": {},
   "outputs": [
    {
     "data": {
      "text/plain": [
       "0"
      ]
     },
     "execution_count": 44,
     "metadata": {},
     "output_type": "execute_result"
    }
   ],
   "source": [
    "sum(archive_copy.duplicated())"
   ]
  },
  {
   "cell_type": "markdown",
   "id": "e9ebc397",
   "metadata": {},
   "source": [
    "## Store Data<a name=\"store\"></a>"
   ]
  },
  {
   "cell_type": "code",
   "execution_count": 45,
   "id": "453d1b72",
   "metadata": {},
   "outputs": [],
   "source": [
    "archive_copy.to_csv('twitter_archive_master.csv',index=False)\n"
   ]
  },
  {
   "cell_type": "markdown",
   "id": "a62ac2cb",
   "metadata": {},
   "source": [
    "## Analyzing and Visualizing Data<a name=\"eda\"></a>"
   ]
  },
  {
   "cell_type": "code",
   "execution_count": 46,
   "id": "5660333d",
   "metadata": {},
   "outputs": [],
   "source": [
    "# downloading contents via url\n",
    "r = requests.get(archive_copy.jpg_url[1])\n"
   ]
  },
  {
   "cell_type": "code",
   "execution_count": 47,
   "id": "e1f9aff8",
   "metadata": {},
   "outputs": [],
   "source": [
    "from PIL import Image\n",
    "from io import BytesIO\n",
    "# storing image via memory\n",
    "im = Image.open(BytesIO(r.content))"
   ]
  },
  {
   "cell_type": "code",
   "execution_count": 48,
   "id": "8c52bcbe",
   "metadata": {},
   "outputs": [
    {
     "name": "stdout",
     "output_type": "stream",
     "text": [
      "This is Tilly. She's just checking pup on you. Hopes you're doing ok. If not, she's available for pats, snugs, boops, the whole bit. 13/10 https://t.co/0Xxu71qeIV\n"
     ]
    },
    {
     "data": {
      "image/png": "[encoded data removed]",
      "text/plain": [
       "<Figure size 432x288 with 1 Axes>"
      ]
     },
     "metadata": {
      "needs_background": "light"
     },
     "output_type": "display_data"
    }
   ],
   "source": [
    "# displaying image\n",
    "plt.imshow(im)\n",
    "print(archive_copy.text[1]);"
   ]
  },
  {
   "cell_type": "code",
   "execution_count": 49,
   "id": "83e90f61",
   "metadata": {},
   "outputs": [],
   "source": [
    "# copy and query only dogs\n",
    "df_dog = archive_copy.copy()\n",
    "df_dog = df_dog.query('accuracy_1 == True and accuracy_2 == True and accuracy_3 == True')\n"
   ]
  },
  {
   "cell_type": "code",
   "execution_count": 50,
   "id": "157eabc2",
   "metadata": {},
   "outputs": [
    {
     "data": {
      "text/html": [
       "<div>\n",
       "<style scoped>\n",
       "    .dataframe tbody tr th:only-of-type {\n",
       "        vertical-align: middle;\n",
       "    }\n",
       "\n",
       "    .dataframe tbody tr th {\n",
       "        vertical-align: top;\n",
       "    }\n",
       "\n",
       "    .dataframe thead th {\n",
       "        text-align: right;\n",
       "    }\n",
       "</style>\n",
       "<table border=\"1\" class=\"dataframe\">\n",
       "  <thead>\n",
       "    <tr style=\"text-align: right;\">\n",
       "      <th></th>\n",
       "      <th>tweet_id</th>\n",
       "      <th>timestamp</th>\n",
       "      <th>source</th>\n",
       "      <th>text</th>\n",
       "      <th>expanded_urls</th>\n",
       "      <th>rating_numerator</th>\n",
       "      <th>rating_denominator</th>\n",
       "      <th>name</th>\n",
       "      <th>dog_stage</th>\n",
       "      <th>retweet_count</th>\n",
       "      <th>...</th>\n",
       "      <th>img_num</th>\n",
       "      <th>ImagePrediction_1</th>\n",
       "      <th>PredictionConfidence_1</th>\n",
       "      <th>accuracy_1</th>\n",
       "      <th>ImagePrediction_2</th>\n",
       "      <th>PredictionConfidence_2</th>\n",
       "      <th>accuracy_2</th>\n",
       "      <th>ImagePrediction_3</th>\n",
       "      <th>PredictionConfidence_3</th>\n",
       "      <th>accuracy_3</th>\n",
       "    </tr>\n",
       "  </thead>\n",
       "  <tbody>\n",
       "    <tr>\n",
       "      <th>1</th>\n",
       "      <td>892177421306343426</td>\n",
       "      <td>2017-08-01 00:17:27+00:00</td>\n",
       "      <td>&lt;a href=\"http://twitter.com/download/iphone\" r...</td>\n",
       "      <td>This is Tilly. She's just checking pup on you....</td>\n",
       "      <td>https://twitter.com/dog_rates/status/892177421...</td>\n",
       "      <td>13</td>\n",
       "      <td>10</td>\n",
       "      <td>Tilly</td>\n",
       "      <td>NaN</td>\n",
       "      <td>213.0</td>\n",
       "      <td>...</td>\n",
       "      <td>1.0</td>\n",
       "      <td>Chihuahua</td>\n",
       "      <td>0.323581</td>\n",
       "      <td>True</td>\n",
       "      <td>Pekinese</td>\n",
       "      <td>0.090647</td>\n",
       "      <td>True</td>\n",
       "      <td>papillon</td>\n",
       "      <td>0.068957</td>\n",
       "      <td>True</td>\n",
       "    </tr>\n",
       "    <tr>\n",
       "      <th>2</th>\n",
       "      <td>891815181378084864</td>\n",
       "      <td>2017-07-31 00:18:03+00:00</td>\n",
       "      <td>&lt;a href=\"http://twitter.com/download/iphone\" r...</td>\n",
       "      <td>This is Archie. He is a rare Norwegian Pouncin...</td>\n",
       "      <td>https://twitter.com/dog_rates/status/891815181...</td>\n",
       "      <td>12</td>\n",
       "      <td>10</td>\n",
       "      <td>Archie</td>\n",
       "      <td>NaN</td>\n",
       "      <td>4324.0</td>\n",
       "      <td>...</td>\n",
       "      <td>1.0</td>\n",
       "      <td>Chihuahua</td>\n",
       "      <td>0.716012</td>\n",
       "      <td>True</td>\n",
       "      <td>malamute</td>\n",
       "      <td>0.078253</td>\n",
       "      <td>True</td>\n",
       "      <td>kelpie</td>\n",
       "      <td>0.031379</td>\n",
       "      <td>True</td>\n",
       "    </tr>\n",
       "    <tr>\n",
       "      <th>4</th>\n",
       "      <td>891327558926688256</td>\n",
       "      <td>2017-07-29 16:00:24+00:00</td>\n",
       "      <td>&lt;a href=\"http://twitter.com/download/iphone\" r...</td>\n",
       "      <td>This is Franklin. He would like you to stop ca...</td>\n",
       "      <td>https://twitter.com/dog_rates/status/891327558...</td>\n",
       "      <td>12</td>\n",
       "      <td>10</td>\n",
       "      <td>Franklin</td>\n",
       "      <td>NaN</td>\n",
       "      <td>478.0</td>\n",
       "      <td>...</td>\n",
       "      <td>2.0</td>\n",
       "      <td>basset</td>\n",
       "      <td>0.555712</td>\n",
       "      <td>True</td>\n",
       "      <td>English_springer</td>\n",
       "      <td>0.225770</td>\n",
       "      <td>True</td>\n",
       "      <td>German_short-haired_pointer</td>\n",
       "      <td>0.175219</td>\n",
       "      <td>True</td>\n",
       "    </tr>\n",
       "  </tbody>\n",
       "</table>\n",
       "<p>3 rows × 22 columns</p>\n",
       "</div>"
      ],
      "text/plain": [
       "             tweet_id                 timestamp  \\\n",
       "1  892177421306343426 2017-08-01 00:17:27+00:00   \n",
       "2  891815181378084864 2017-07-31 00:18:03+00:00   \n",
       "4  891327558926688256 2017-07-29 16:00:24+00:00   \n",
       "\n",
       "                                              source  \\\n",
       "1  <a href=\"http://twitter.com/download/iphone\" r...   \n",
       "2  <a href=\"http://twitter.com/download/iphone\" r...   \n",
       "4  <a href=\"http://twitter.com/download/iphone\" r...   \n",
       "\n",
       "                                                text  \\\n",
       "1  This is Tilly. She's just checking pup on you....   \n",
       "2  This is Archie. He is a rare Norwegian Pouncin...   \n",
       "4  This is Franklin. He would like you to stop ca...   \n",
       "\n",
       "                                       expanded_urls  rating_numerator  \\\n",
       "1  https://twitter.com/dog_rates/status/892177421...                13   \n",
       "2  https://twitter.com/dog_rates/status/891815181...                12   \n",
       "4  https://twitter.com/dog_rates/status/891327558...                12   \n",
       "\n",
       "   rating_denominator      name dog_stage  retweet_count  ...  img_num  \\\n",
       "1                  10     Tilly       NaN          213.0  ...      1.0   \n",
       "2                  10    Archie       NaN         4324.0  ...      1.0   \n",
       "4                  10  Franklin       NaN          478.0  ...      2.0   \n",
       "\n",
       "  ImagePrediction_1  PredictionConfidence_1 accuracy_1  ImagePrediction_2  \\\n",
       "1         Chihuahua                0.323581       True           Pekinese   \n",
       "2         Chihuahua                0.716012       True           malamute   \n",
       "4            basset                0.555712       True   English_springer   \n",
       "\n",
       "  PredictionConfidence_2 accuracy_2            ImagePrediction_3  \\\n",
       "1               0.090647       True                     papillon   \n",
       "2               0.078253       True                       kelpie   \n",
       "4               0.225770       True  German_short-haired_pointer   \n",
       "\n",
       "  PredictionConfidence_3 accuracy_3  \n",
       "1               0.068957       True  \n",
       "2               0.031379       True  \n",
       "4               0.175219       True  \n",
       "\n",
       "[3 rows x 22 columns]"
      ]
     },
     "execution_count": 50,
     "metadata": {},
     "output_type": "execute_result"
    }
   ],
   "source": [
    "df_dog.head(3)\n"
   ]
  },
  {
   "cell_type": "code",
   "execution_count": 51,
   "id": "7b08213a",
   "metadata": {
    "scrolled": true
   },
   "outputs": [
    {
     "data": {
      "text/plain": [
       "True    1203\n",
       "Name: accuracy_1, dtype: int64"
      ]
     },
     "execution_count": 51,
     "metadata": {},
     "output_type": "execute_result"
    }
   ],
   "source": [
    "df_dog['accuracy_1'].value_counts()"
   ]
  },
  {
   "cell_type": "code",
   "execution_count": 52,
   "id": "6063aa8f",
   "metadata": {},
   "outputs": [],
   "source": [
    "# Query only predictions past 60%\n",
    "df_dog = df_dog.query('PredictionConfidence_1 >= 0.6 or PredictionConfidence_2 >= 0.6 or PredictionConfidence_3 >= 0.6')\n"
   ]
  },
  {
   "cell_type": "code",
   "execution_count": 53,
   "id": "0ce063a2",
   "metadata": {},
   "outputs": [],
   "source": [
    "# reset the index\n",
    "df_dog.reset_index(drop=True, inplace=True)"
   ]
  },
  {
   "cell_type": "code",
   "execution_count": 54,
   "id": "9fa95fc2",
   "metadata": {},
   "outputs": [],
   "source": [
    "# this function gets only the highest prediction\n",
    "def get_pred(idx, df):\n",
    "    '''this function compares the values of the predictions'''\n",
    "    if df.PredictionConfidence_1[idx] > df.PredictionConfidence_2[idx] or df.PredictionConfidence_1[idx] > df.PredictionConfidence_3[idx]:\n",
    "        return df_dog.ImagePrediction_1[idx]\n",
    "\n",
    "    elif df.PredictionConfidence_2[idx] > df.PredictionConfidence_1[idx] or df.PredictionConfidence_2[idx] > df.PredictionConfidence_3[idx]:\n",
    "        return df_dog.ImagePrediction_2[idx]\n",
    "\n",
    "    elif df.PredicionConfidence_3[idx] > df.PredictionConfidence_2[idx] or df.PredictionConfidence_3[idx] > df.PredictionConfidence_1[idx]:\n",
    "        return df_dog.ImagePrediction_3[idx]\n",
    "    else:\n",
    "        return None\n",
    "\n",
    "def display_result(rating_numerator, index):\n",
    "    '''this function takes the numerator and index as arguments\n",
    "    and displays the text accompanying a particular dog \n",
    "    and breed prediction'''\n",
    "    dog = df_dog[df_dog.rating_numerator == rating_numerator].reset_index()\n",
    "    text = dog.text[index]\n",
    "    r = requests.get(dog.jpg_url[index])\n",
    "    im = Image.open(BytesIO(r.content))\n",
    "    pred = get_pred(index, dog)\n",
    "    print(text)\n",
    "    plt.imshow(im);\n",
    "    print(\"Breed prediction: {}\".format(pred))\n",
    "    return dog"
   ]
  },
  {
   "cell_type": "code",
   "execution_count": 55,
   "id": "38310819",
   "metadata": {},
   "outputs": [
    {
     "name": "stdout",
     "output_type": "stream",
     "text": [
      "Here we have an entire platoon of puppers. Total score: 88/80 would pet all at once https://t.co/y93p6FLvVw\n",
      "Breed prediction: Chihuahua\n"
     ]
    },
    {
     "data": {
      "text/html": [
       "<div>\n",
       "<style scoped>\n",
       "    .dataframe tbody tr th:only-of-type {\n",
       "        vertical-align: middle;\n",
       "    }\n",
       "\n",
       "    .dataframe tbody tr th {\n",
       "        vertical-align: top;\n",
       "    }\n",
       "\n",
       "    .dataframe thead th {\n",
       "        text-align: right;\n",
       "    }\n",
       "</style>\n",
       "<table border=\"1\" class=\"dataframe\">\n",
       "  <thead>\n",
       "    <tr style=\"text-align: right;\">\n",
       "      <th></th>\n",
       "      <th>index</th>\n",
       "      <th>tweet_id</th>\n",
       "      <th>timestamp</th>\n",
       "      <th>source</th>\n",
       "      <th>text</th>\n",
       "      <th>expanded_urls</th>\n",
       "      <th>rating_numerator</th>\n",
       "      <th>rating_denominator</th>\n",
       "      <th>name</th>\n",
       "      <th>dog_stage</th>\n",
       "      <th>...</th>\n",
       "      <th>img_num</th>\n",
       "      <th>ImagePrediction_1</th>\n",
       "      <th>PredictionConfidence_1</th>\n",
       "      <th>accuracy_1</th>\n",
       "      <th>ImagePrediction_2</th>\n",
       "      <th>PredictionConfidence_2</th>\n",
       "      <th>accuracy_2</th>\n",
       "      <th>ImagePrediction_3</th>\n",
       "      <th>PredictionConfidence_3</th>\n",
       "      <th>accuracy_3</th>\n",
       "    </tr>\n",
       "  </thead>\n",
       "  <tbody>\n",
       "    <tr>\n",
       "      <th>0</th>\n",
       "      <td>521</td>\n",
       "      <td>675853064436391936</td>\n",
       "      <td>2015-12-13 01:41:41+00:00</td>\n",
       "      <td>&lt;a href=\"http://twitter.com/download/iphone\" r...</td>\n",
       "      <td>Here we have an entire platoon of puppers. Tot...</td>\n",
       "      <td>https://twitter.com/dog_rates/status/675853064...</td>\n",
       "      <td>88</td>\n",
       "      <td>80</td>\n",
       "      <td>NaN</td>\n",
       "      <td>NaN</td>\n",
       "      <td>...</td>\n",
       "      <td>1.0</td>\n",
       "      <td>Labrador_retriever</td>\n",
       "      <td>0.868367</td>\n",
       "      <td>True</td>\n",
       "      <td>golden_retriever</td>\n",
       "      <td>0.043305</td>\n",
       "      <td>True</td>\n",
       "      <td>vizsla</td>\n",
       "      <td>0.028207</td>\n",
       "      <td>True</td>\n",
       "    </tr>\n",
       "  </tbody>\n",
       "</table>\n",
       "<p>1 rows × 23 columns</p>\n",
       "</div>"
      ],
      "text/plain": [
       "   index            tweet_id                 timestamp  \\\n",
       "0    521  675853064436391936 2015-12-13 01:41:41+00:00   \n",
       "\n",
       "                                              source  \\\n",
       "0  <a href=\"http://twitter.com/download/iphone\" r...   \n",
       "\n",
       "                                                text  \\\n",
       "0  Here we have an entire platoon of puppers. Tot...   \n",
       "\n",
       "                                       expanded_urls  rating_numerator  \\\n",
       "0  https://twitter.com/dog_rates/status/675853064...                88   \n",
       "\n",
       "   rating_denominator name dog_stage  ...  img_num   ImagePrediction_1  \\\n",
       "0                  80  NaN       NaN  ...      1.0  Labrador_retriever   \n",
       "\n",
       "  PredictionConfidence_1  accuracy_1 ImagePrediction_2  \\\n",
       "0               0.868367        True  golden_retriever   \n",
       "\n",
       "   PredictionConfidence_2 accuracy_2 ImagePrediction_3  \\\n",
       "0                0.043305       True            vizsla   \n",
       "\n",
       "   PredictionConfidence_3 accuracy_3  \n",
       "0                0.028207       True  \n",
       "\n",
       "[1 rows x 23 columns]"
      ]
     },
     "execution_count": 55,
     "metadata": {},
     "output_type": "execute_result"
    },
    {
     "data": {
      "image/png": "[encoded data removed]",
      "text/plain": [
       "<Figure size 432x288 with 1 Axes>"
      ]
     },
     "metadata": {
      "needs_background": "light"
     },
     "output_type": "display_data"
    }
   ],
   "source": [
    "display_result(88,0)"
   ]
  },
  {
   "cell_type": "code",
   "execution_count": 56,
   "id": "a7a712bc",
   "metadata": {},
   "outputs": [
    {
     "name": "stdout",
     "output_type": "stream",
     "text": [
      "This is Archie. He is a rare Norwegian Pouncing Corgo. Lives in the tall grass. You never know when one may strike. 12/10 https://t.co/wUnZnhtVJB\n",
      "Breed prediction: Chihuahua\n"
     ]
    },
    {
     "data": {
      "text/html": [
       "<div>\n",
       "<style scoped>\n",
       "    .dataframe tbody tr th:only-of-type {\n",
       "        vertical-align: middle;\n",
       "    }\n",
       "\n",
       "    .dataframe tbody tr th {\n",
       "        vertical-align: top;\n",
       "    }\n",
       "\n",
       "    .dataframe thead th {\n",
       "        text-align: right;\n",
       "    }\n",
       "</style>\n",
       "<table border=\"1\" class=\"dataframe\">\n",
       "  <thead>\n",
       "    <tr style=\"text-align: right;\">\n",
       "      <th></th>\n",
       "      <th>index</th>\n",
       "      <th>tweet_id</th>\n",
       "      <th>timestamp</th>\n",
       "      <th>source</th>\n",
       "      <th>text</th>\n",
       "      <th>expanded_urls</th>\n",
       "      <th>rating_numerator</th>\n",
       "      <th>rating_denominator</th>\n",
       "      <th>name</th>\n",
       "      <th>dog_stage</th>\n",
       "      <th>...</th>\n",
       "      <th>img_num</th>\n",
       "      <th>ImagePrediction_1</th>\n",
       "      <th>PredictionConfidence_1</th>\n",
       "      <th>accuracy_1</th>\n",
       "      <th>ImagePrediction_2</th>\n",
       "      <th>PredictionConfidence_2</th>\n",
       "      <th>accuracy_2</th>\n",
       "      <th>ImagePrediction_3</th>\n",
       "      <th>PredictionConfidence_3</th>\n",
       "      <th>accuracy_3</th>\n",
       "    </tr>\n",
       "  </thead>\n",
       "  <tbody>\n",
       "    <tr>\n",
       "      <th>0</th>\n",
       "      <td>0</td>\n",
       "      <td>891815181378084864</td>\n",
       "      <td>2017-07-31 00:18:03+00:00</td>\n",
       "      <td>&lt;a href=\"http://twitter.com/download/iphone\" r...</td>\n",
       "      <td>This is Archie. He is a rare Norwegian Pouncin...</td>\n",
       "      <td>https://twitter.com/dog_rates/status/891815181...</td>\n",
       "      <td>12</td>\n",
       "      <td>10</td>\n",
       "      <td>Archie</td>\n",
       "      <td>NaN</td>\n",
       "      <td>...</td>\n",
       "      <td>1.0</td>\n",
       "      <td>Chihuahua</td>\n",
       "      <td>0.716012</td>\n",
       "      <td>True</td>\n",
       "      <td>malamute</td>\n",
       "      <td>0.078253</td>\n",
       "      <td>True</td>\n",
       "      <td>kelpie</td>\n",
       "      <td>0.031379</td>\n",
       "      <td>True</td>\n",
       "    </tr>\n",
       "    <tr>\n",
       "      <th>1</th>\n",
       "      <td>3</td>\n",
       "      <td>889638837579907072</td>\n",
       "      <td>2017-07-25 00:10:02+00:00</td>\n",
       "      <td>&lt;a href=\"http://twitter.com/download/iphone\" r...</td>\n",
       "      <td>This is Ted. He does his best. Sometimes that'...</td>\n",
       "      <td>https://twitter.com/dog_rates/status/889638837...</td>\n",
       "      <td>12</td>\n",
       "      <td>10</td>\n",
       "      <td>Ted</td>\n",
       "      <td>NaN</td>\n",
       "      <td>...</td>\n",
       "      <td>1.0</td>\n",
       "      <td>French_bulldog</td>\n",
       "      <td>0.991650</td>\n",
       "      <td>True</td>\n",
       "      <td>boxer</td>\n",
       "      <td>0.002129</td>\n",
       "      <td>True</td>\n",
       "      <td>Staffordshire_bullterrier</td>\n",
       "      <td>0.001498</td>\n",
       "      <td>True</td>\n",
       "    </tr>\n",
       "    <tr>\n",
       "      <th>2</th>\n",
       "      <td>6</td>\n",
       "      <td>888917238123831296</td>\n",
       "      <td>2017-07-23 00:22:39+00:00</td>\n",
       "      <td>&lt;a href=\"http://twitter.com/download/iphone\" r...</td>\n",
       "      <td>This is Jim. He found a fren. Taught him how t...</td>\n",
       "      <td>https://twitter.com/dog_rates/status/888917238...</td>\n",
       "      <td>12</td>\n",
       "      <td>10</td>\n",
       "      <td>Jim</td>\n",
       "      <td>NaN</td>\n",
       "      <td>...</td>\n",
       "      <td>1.0</td>\n",
       "      <td>golden_retriever</td>\n",
       "      <td>0.714719</td>\n",
       "      <td>True</td>\n",
       "      <td>Tibetan_mastiff</td>\n",
       "      <td>0.120184</td>\n",
       "      <td>True</td>\n",
       "      <td>Labrador_retriever</td>\n",
       "      <td>0.105506</td>\n",
       "      <td>True</td>\n",
       "    </tr>\n",
       "    <tr>\n",
       "      <th>3</th>\n",
       "      <td>8</td>\n",
       "      <td>888078434458587136</td>\n",
       "      <td>2017-07-20 16:49:33+00:00</td>\n",
       "      <td>&lt;a href=\"http://twitter.com/download/iphone\" r...</td>\n",
       "      <td>This is Gerald. He was just told he didn't get...</td>\n",
       "      <td>https://twitter.com/dog_rates/status/888078434...</td>\n",
       "      <td>12</td>\n",
       "      <td>10</td>\n",
       "      <td>Gerald</td>\n",
       "      <td>NaN</td>\n",
       "      <td>...</td>\n",
       "      <td>1.0</td>\n",
       "      <td>French_bulldog</td>\n",
       "      <td>0.995026</td>\n",
       "      <td>True</td>\n",
       "      <td>pug</td>\n",
       "      <td>0.000932</td>\n",
       "      <td>True</td>\n",
       "      <td>bull_mastiff</td>\n",
       "      <td>0.000903</td>\n",
       "      <td>True</td>\n",
       "    </tr>\n",
       "    <tr>\n",
       "      <th>4</th>\n",
       "      <td>11</td>\n",
       "      <td>887101392804085760</td>\n",
       "      <td>2017-07-18 00:07:08+00:00</td>\n",
       "      <td>&lt;a href=\"http://twitter.com/download/iphone\" r...</td>\n",
       "      <td>This... is a Jubilant Antarctic House Bear. We...</td>\n",
       "      <td>https://twitter.com/dog_rates/status/887101392...</td>\n",
       "      <td>12</td>\n",
       "      <td>10</td>\n",
       "      <td>NaN</td>\n",
       "      <td>NaN</td>\n",
       "      <td>...</td>\n",
       "      <td>1.0</td>\n",
       "      <td>Samoyed</td>\n",
       "      <td>0.733942</td>\n",
       "      <td>True</td>\n",
       "      <td>Eskimo_dog</td>\n",
       "      <td>0.035029</td>\n",
       "      <td>True</td>\n",
       "      <td>Staffordshire_bullterrier</td>\n",
       "      <td>0.029705</td>\n",
       "      <td>True</td>\n",
       "    </tr>\n",
       "    <tr>\n",
       "      <th>...</th>\n",
       "      <td>...</td>\n",
       "      <td>...</td>\n",
       "      <td>...</td>\n",
       "      <td>...</td>\n",
       "      <td>...</td>\n",
       "      <td>...</td>\n",
       "      <td>...</td>\n",
       "      <td>...</td>\n",
       "      <td>...</td>\n",
       "      <td>...</td>\n",
       "      <td>...</td>\n",
       "      <td>...</td>\n",
       "      <td>...</td>\n",
       "      <td>...</td>\n",
       "      <td>...</td>\n",
       "      <td>...</td>\n",
       "      <td>...</td>\n",
       "      <td>...</td>\n",
       "      <td>...</td>\n",
       "      <td>...</td>\n",
       "      <td>...</td>\n",
       "    </tr>\n",
       "    <tr>\n",
       "      <th>176</th>\n",
       "      <td>613</td>\n",
       "      <td>668979806671884288</td>\n",
       "      <td>2015-11-24 02:29:49+00:00</td>\n",
       "      <td>&lt;a href=\"http://twitter.com/download/iphone\" r...</td>\n",
       "      <td>This is Chaz. He's an X Games half pipe supers...</td>\n",
       "      <td>https://twitter.com/dog_rates/status/668979806...</td>\n",
       "      <td>12</td>\n",
       "      <td>10</td>\n",
       "      <td>Chaz</td>\n",
       "      <td>NaN</td>\n",
       "      <td>...</td>\n",
       "      <td>1.0</td>\n",
       "      <td>golden_retriever</td>\n",
       "      <td>0.608537</td>\n",
       "      <td>True</td>\n",
       "      <td>Irish_setter</td>\n",
       "      <td>0.097078</td>\n",
       "      <td>True</td>\n",
       "      <td>redbone</td>\n",
       "      <td>0.076022</td>\n",
       "      <td>True</td>\n",
       "    </tr>\n",
       "    <tr>\n",
       "      <th>177</th>\n",
       "      <td>623</td>\n",
       "      <td>668190681446379520</td>\n",
       "      <td>2015-11-21 22:14:07+00:00</td>\n",
       "      <td>&lt;a href=\"http://twitter.com/download/iphone\" r...</td>\n",
       "      <td>This is Skittles. I would kidnap Skittles. Pin...</td>\n",
       "      <td>https://twitter.com/dog_rates/status/668190681...</td>\n",
       "      <td>12</td>\n",
       "      <td>10</td>\n",
       "      <td>Skittles</td>\n",
       "      <td>NaN</td>\n",
       "      <td>...</td>\n",
       "      <td>1.0</td>\n",
       "      <td>Blenheim_spaniel</td>\n",
       "      <td>0.958402</td>\n",
       "      <td>True</td>\n",
       "      <td>cocker_spaniel</td>\n",
       "      <td>0.026764</td>\n",
       "      <td>True</td>\n",
       "      <td>Welsh_springer_spaniel</td>\n",
       "      <td>0.007790</td>\n",
       "      <td>True</td>\n",
       "    </tr>\n",
       "    <tr>\n",
       "      <th>178</th>\n",
       "      <td>628</td>\n",
       "      <td>667509364010450944</td>\n",
       "      <td>2015-11-20 01:06:48+00:00</td>\n",
       "      <td>&lt;a href=\"http://twitter.com\" rel=\"nofollow\"&gt;Tw...</td>\n",
       "      <td>This a Norwegian Pewterschmidt named Tickles. ...</td>\n",
       "      <td>https://twitter.com/dog_rates/status/667509364...</td>\n",
       "      <td>12</td>\n",
       "      <td>10</td>\n",
       "      <td>NaN</td>\n",
       "      <td>NaN</td>\n",
       "      <td>...</td>\n",
       "      <td>1.0</td>\n",
       "      <td>beagle</td>\n",
       "      <td>0.636169</td>\n",
       "      <td>True</td>\n",
       "      <td>Labrador_retriever</td>\n",
       "      <td>0.119256</td>\n",
       "      <td>True</td>\n",
       "      <td>golden_retriever</td>\n",
       "      <td>0.082549</td>\n",
       "      <td>True</td>\n",
       "    </tr>\n",
       "    <tr>\n",
       "      <th>179</th>\n",
       "      <td>632</td>\n",
       "      <td>667435689202614272</td>\n",
       "      <td>2015-11-19 20:14:03+00:00</td>\n",
       "      <td>&lt;a href=\"http://twitter.com/download/iphone\" r...</td>\n",
       "      <td>Ermergerd 12/10 https://t.co/PQni2sjPsm</td>\n",
       "      <td>https://twitter.com/dog_rates/status/667435689...</td>\n",
       "      <td>12</td>\n",
       "      <td>10</td>\n",
       "      <td>NaN</td>\n",
       "      <td>NaN</td>\n",
       "      <td>...</td>\n",
       "      <td>1.0</td>\n",
       "      <td>Rottweiler</td>\n",
       "      <td>0.999091</td>\n",
       "      <td>True</td>\n",
       "      <td>miniature_pinscher</td>\n",
       "      <td>0.000450</td>\n",
       "      <td>True</td>\n",
       "      <td>black-and-tan_coonhound</td>\n",
       "      <td>0.000157</td>\n",
       "      <td>True</td>\n",
       "    </tr>\n",
       "    <tr>\n",
       "      <th>180</th>\n",
       "      <td>644</td>\n",
       "      <td>666421158376562688</td>\n",
       "      <td>2015-11-17 01:02:40+00:00</td>\n",
       "      <td>&lt;a href=\"http://twitter.com/download/iphone\" r...</td>\n",
       "      <td>*internally screaming* 12/10 https://t.co/YMcr...</td>\n",
       "      <td>https://twitter.com/dog_rates/status/666421158...</td>\n",
       "      <td>12</td>\n",
       "      <td>10</td>\n",
       "      <td>NaN</td>\n",
       "      <td>NaN</td>\n",
       "      <td>...</td>\n",
       "      <td>1.0</td>\n",
       "      <td>Blenheim_spaniel</td>\n",
       "      <td>0.906777</td>\n",
       "      <td>True</td>\n",
       "      <td>cocker_spaniel</td>\n",
       "      <td>0.090346</td>\n",
       "      <td>True</td>\n",
       "      <td>Shih-Tzu</td>\n",
       "      <td>0.001117</td>\n",
       "      <td>True</td>\n",
       "    </tr>\n",
       "  </tbody>\n",
       "</table>\n",
       "<p>181 rows × 23 columns</p>\n",
       "</div>"
      ],
      "text/plain": [
       "     index            tweet_id                 timestamp  \\\n",
       "0        0  891815181378084864 2017-07-31 00:18:03+00:00   \n",
       "1        3  889638837579907072 2017-07-25 00:10:02+00:00   \n",
       "2        6  888917238123831296 2017-07-23 00:22:39+00:00   \n",
       "3        8  888078434458587136 2017-07-20 16:49:33+00:00   \n",
       "4       11  887101392804085760 2017-07-18 00:07:08+00:00   \n",
       "..     ...                 ...                       ...   \n",
       "176    613  668979806671884288 2015-11-24 02:29:49+00:00   \n",
       "177    623  668190681446379520 2015-11-21 22:14:07+00:00   \n",
       "178    628  667509364010450944 2015-11-20 01:06:48+00:00   \n",
       "179    632  667435689202614272 2015-11-19 20:14:03+00:00   \n",
       "180    644  666421158376562688 2015-11-17 01:02:40+00:00   \n",
       "\n",
       "                                                source  \\\n",
       "0    <a href=\"http://twitter.com/download/iphone\" r...   \n",
       "1    <a href=\"http://twitter.com/download/iphone\" r...   \n",
       "2    <a href=\"http://twitter.com/download/iphone\" r...   \n",
       "3    <a href=\"http://twitter.com/download/iphone\" r...   \n",
       "4    <a href=\"http://twitter.com/download/iphone\" r...   \n",
       "..                                                 ...   \n",
       "176  <a href=\"http://twitter.com/download/iphone\" r...   \n",
       "177  <a href=\"http://twitter.com/download/iphone\" r...   \n",
       "178  <a href=\"http://twitter.com\" rel=\"nofollow\">Tw...   \n",
       "179  <a href=\"http://twitter.com/download/iphone\" r...   \n",
       "180  <a href=\"http://twitter.com/download/iphone\" r...   \n",
       "\n",
       "                                                  text  \\\n",
       "0    This is Archie. He is a rare Norwegian Pouncin...   \n",
       "1    This is Ted. He does his best. Sometimes that'...   \n",
       "2    This is Jim. He found a fren. Taught him how t...   \n",
       "3    This is Gerald. He was just told he didn't get...   \n",
       "4    This... is a Jubilant Antarctic House Bear. We...   \n",
       "..                                                 ...   \n",
       "176  This is Chaz. He's an X Games half pipe supers...   \n",
       "177  This is Skittles. I would kidnap Skittles. Pin...   \n",
       "178  This a Norwegian Pewterschmidt named Tickles. ...   \n",
       "179            Ermergerd 12/10 https://t.co/PQni2sjPsm   \n",
       "180  *internally screaming* 12/10 https://t.co/YMcr...   \n",
       "\n",
       "                                         expanded_urls  rating_numerator  \\\n",
       "0    https://twitter.com/dog_rates/status/891815181...                12   \n",
       "1    https://twitter.com/dog_rates/status/889638837...                12   \n",
       "2    https://twitter.com/dog_rates/status/888917238...                12   \n",
       "3    https://twitter.com/dog_rates/status/888078434...                12   \n",
       "4    https://twitter.com/dog_rates/status/887101392...                12   \n",
       "..                                                 ...               ...   \n",
       "176  https://twitter.com/dog_rates/status/668979806...                12   \n",
       "177  https://twitter.com/dog_rates/status/668190681...                12   \n",
       "178  https://twitter.com/dog_rates/status/667509364...                12   \n",
       "179  https://twitter.com/dog_rates/status/667435689...                12   \n",
       "180  https://twitter.com/dog_rates/status/666421158...                12   \n",
       "\n",
       "     rating_denominator      name dog_stage  ...  img_num  ImagePrediction_1  \\\n",
       "0                    10    Archie       NaN  ...      1.0          Chihuahua   \n",
       "1                    10       Ted       NaN  ...      1.0     French_bulldog   \n",
       "2                    10       Jim       NaN  ...      1.0   golden_retriever   \n",
       "3                    10    Gerald       NaN  ...      1.0     French_bulldog   \n",
       "4                    10       NaN       NaN  ...      1.0            Samoyed   \n",
       "..                  ...       ...       ...  ...      ...                ...   \n",
       "176                  10      Chaz       NaN  ...      1.0   golden_retriever   \n",
       "177                  10  Skittles       NaN  ...      1.0   Blenheim_spaniel   \n",
       "178                  10       NaN       NaN  ...      1.0             beagle   \n",
       "179                  10       NaN       NaN  ...      1.0         Rottweiler   \n",
       "180                  10       NaN       NaN  ...      1.0   Blenheim_spaniel   \n",
       "\n",
       "    PredictionConfidence_1  accuracy_1   ImagePrediction_2  \\\n",
       "0                 0.716012        True            malamute   \n",
       "1                 0.991650        True               boxer   \n",
       "2                 0.714719        True     Tibetan_mastiff   \n",
       "3                 0.995026        True                 pug   \n",
       "4                 0.733942        True          Eskimo_dog   \n",
       "..                     ...         ...                 ...   \n",
       "176               0.608537        True        Irish_setter   \n",
       "177               0.958402        True      cocker_spaniel   \n",
       "178               0.636169        True  Labrador_retriever   \n",
       "179               0.999091        True  miniature_pinscher   \n",
       "180               0.906777        True      cocker_spaniel   \n",
       "\n",
       "     PredictionConfidence_2 accuracy_2          ImagePrediction_3  \\\n",
       "0                  0.078253       True                     kelpie   \n",
       "1                  0.002129       True  Staffordshire_bullterrier   \n",
       "2                  0.120184       True         Labrador_retriever   \n",
       "3                  0.000932       True               bull_mastiff   \n",
       "4                  0.035029       True  Staffordshire_bullterrier   \n",
       "..                      ...        ...                        ...   \n",
       "176                0.097078       True                    redbone   \n",
       "177                0.026764       True     Welsh_springer_spaniel   \n",
       "178                0.119256       True           golden_retriever   \n",
       "179                0.000450       True    black-and-tan_coonhound   \n",
       "180                0.090346       True                   Shih-Tzu   \n",
       "\n",
       "     PredictionConfidence_3 accuracy_3  \n",
       "0                  0.031379       True  \n",
       "1                  0.001498       True  \n",
       "2                  0.105506       True  \n",
       "3                  0.000903       True  \n",
       "4                  0.029705       True  \n",
       "..                      ...        ...  \n",
       "176                0.076022       True  \n",
       "177                0.007790       True  \n",
       "178                0.082549       True  \n",
       "179                0.000157       True  \n",
       "180                0.001117       True  \n",
       "\n",
       "[181 rows x 23 columns]"
      ]
     },
     "execution_count": 56,
     "metadata": {},
     "output_type": "execute_result"
    },
    {
     "data": {
      "image/png": "[encoded data removed]",
      "text/plain": [
       "<Figure size 432x288 with 1 Axes>"
      ]
     },
     "metadata": {
      "needs_background": "light"
     },
     "output_type": "display_data"
    }
   ],
   "source": [
    "display_result(12,0)"
   ]
  },
  {
   "cell_type": "markdown",
   "id": "e7f58510",
   "metadata": {},
   "source": [
    "the dogs with the highest rating is a group of labrador retriever puppies\n"
   ]
  },
  {
   "cell_type": "code",
   "execution_count": 57,
   "id": "704c9dbb",
   "metadata": {},
   "outputs": [
    {
     "name": "stdout",
     "output_type": "stream",
     "text": [
      "[1, 2, 4, 5, 6, 7, 8, 9, 10, 11, 12, 13, 14, 24, 27, 44, 60, 80, 84, 88]\n",
      "number of ratings 1-- 1\n",
      "number of ratings 2-- 1\n",
      "number of ratings 4-- 1\n",
      "number of ratings 5-- 7\n",
      "number of ratings 6-- 2\n",
      "number of ratings 7-- 4\n",
      "number of ratings 8-- 22\n",
      "number of ratings 9-- 45\n",
      "number of ratings 10-- 129\n",
      "number of ratings 11-- 135\n",
      "number of ratings 12-- 181\n",
      "number of ratings 13-- 102\n",
      "number of ratings 14-- 13\n",
      "number of ratings 24-- 1\n",
      "number of ratings 27-- 1\n",
      "number of ratings 44-- 1\n",
      "number of ratings 60-- 1\n",
      "number of ratings 80-- 1\n",
      "number of ratings 84-- 1\n",
      "number of ratings 88-- 1\n"
     ]
    }
   ],
   "source": [
    "# see unique ratings\n",
    "unique_ratings= list(set(df_dog.rating_numerator))\n",
    "print(unique_ratings)\n",
    "    \n",
    "# checking for most popular rating\n",
    "for i in range(len(unique_ratings)):\n",
    "    num = df_dog[df_dog.rating_numerator == unique_ratings[i]].shape[0]\n",
    "    print(\"number of ratings {}-- {}\".format(unique_ratings[i], num))"
   ]
  },
  {
   "cell_type": "code",
   "execution_count": 58,
   "id": "75eaecf9",
   "metadata": {},
   "outputs": [
    {
     "data": {
      "text/plain": [
       "<BarContainer object of 650 artists>"
      ]
     },
     "execution_count": 58,
     "metadata": {},
     "output_type": "execute_result"
    },
    {
     "data": {
      "image/png": "[encoded data removed]",
      "text/plain": [
       "<Figure size 432x288 with 1 Axes>"
      ]
     },
     "metadata": {
      "needs_background": "light"
     },
     "output_type": "display_data"
    }
   ],
   "source": [
    "#popular ratings\n",
    "x = list(df_dog.rating_numerator)\n",
    "y = range(len(x))\n",
    "plt.xlabel('rating')\n",
    "plt.ylabel('count')\n",
    "plt.bar(x, y)"
   ]
  },
  {
   "cell_type": "markdown",
   "id": "b136e709",
   "metadata": {},
   "source": [
    "__most dogs receive ratings bewtween 0 and 20__"
   ]
  },
  {
   "cell_type": "code",
   "execution_count": 59,
   "id": "4441d138",
   "metadata": {},
   "outputs": [
    {
     "data": {
      "text/plain": [
       "Text(47.125, 0.5, 'Counts')"
      ]
     },
     "execution_count": 59,
     "metadata": {},
     "output_type": "execute_result"
    },
    {
     "data": {
      "image/png": "[encoded data removed]",
      "text/plain": [
       "<Figure size 720x720 with 1 Axes>"
      ]
     },
     "metadata": {
      "needs_background": "light"
     },
     "output_type": "display_data"
    }
   ],
   "source": [
    "#highest retweet and favourite count\n",
    "df_dog[df_dog.retweet_count >= 15000].groupby(\"ImagePrediction_1\")['retweet_count'].mean().plot(kind=\"bar\", figsize=(10, 10))\n",
    "df_dog[df_dog.favorite_count >= 45000].groupby(\"ImagePrediction_1\")['favorite_count'].mean().plot(kind=\"bar\", figsize=(10, 10), color=\"grey\", alpha=0.5)\n",
    "plt.legend()\n",
    "plt.title(\"Dog Retweet and Favorite Count\")\n",
    "plt.xlabel(\"Dogs\")\n",
    "plt.tight_layout()\n",
    "plt.ylabel(\"Counts\")"
   ]
  },
  {
   "cell_type": "markdown",
   "id": "9684e124",
   "metadata": {},
   "source": [
    "Rotweiler and German shepherd are the most retweeted dogs and Golden retriever is the dog with the higehest favourite count"
   ]
  },
  {
   "cell_type": "code",
   "execution_count": 61,
   "id": "7594ece2",
   "metadata": {},
   "outputs": [],
   "source": [
    "master_archive=pd.read_csv('twitter_archive_master.csv')"
   ]
  },
  {
   "cell_type": "code",
   "execution_count": 65,
   "id": "cb76ad67",
   "metadata": {},
   "outputs": [
    {
     "name": "stdout",
     "output_type": "stream",
     "text": [
      "<class 'pandas.core.frame.DataFrame'>\n",
      "RangeIndex: 2175 entries, 0 to 2174\n",
      "Data columns (total 22 columns):\n",
      " #   Column                  Non-Null Count  Dtype  \n",
      "---  ------                  --------------  -----  \n",
      " 0   tweet_id                2175 non-null   int64  \n",
      " 1   timestamp               2175 non-null   object \n",
      " 2   source                  2175 non-null   object \n",
      " 3   text                    2175 non-null   object \n",
      " 4   expanded_urls           2117 non-null   object \n",
      " 5   rating_numerator        2175 non-null   int64  \n",
      " 6   rating_denominator      2175 non-null   int64  \n",
      " 7   name                    1391 non-null   object \n",
      " 8   dog_stage               344 non-null    object \n",
      " 9   retweet_count           1994 non-null   float64\n",
      " 10  favorite_count          1994 non-null   float64\n",
      " 11  jpg_url                 1994 non-null   object \n",
      " 12  img_num                 1994 non-null   float64\n",
      " 13  ImagePrediction_1       1994 non-null   object \n",
      " 14  PredictionConfidence_1  1994 non-null   float64\n",
      " 15  accuracy_1              1994 non-null   object \n",
      " 16  ImagePrediction_2       1994 non-null   object \n",
      " 17  PredictionConfidence_2  1994 non-null   float64\n",
      " 18  accuracy_2              1994 non-null   object \n",
      " 19  ImagePrediction_3       1994 non-null   object \n",
      " 20  PredictionConfidence_3  1994 non-null   float64\n",
      " 21  accuracy_3              1994 non-null   object \n",
      "dtypes: float64(6), int64(3), object(13)\n",
      "memory usage: 374.0+ KB\n"
     ]
    }
   ],
   "source": [
    "master_archive.info()"
   ]
  },
  {
   "cell_type": "markdown",
   "id": "6d41b323",
   "metadata": {},
   "source": [
    "### Reference<a name=\"ref\"></a>\n",
    "- https://medium.com/@sambozek/ipython-er-jupyter-table-of-contents-69bb72cf39d3"
   ]
  },
  {
   "cell_type": "markdown",
   "id": "fc209a89",
   "metadata": {},
   "source": []
  },
  {
   "cell_type": "code",
   "execution_count": null,
   "id": "a44c7c97",
   "metadata": {},
   "outputs": [],
   "source": []
  }
 ],
 "metadata": {
  "kernelspec": {
   "display_name": "Python 3 (ipykernel)",
   "language": "python",
   "name": "python3"
  },
  "language_info": {
   "codemirror_mode": {
    "name": "ipython",
    "version": 3
   },
   "file_extension": ".py",
   "mimetype": "text/x-python",
   "name": "python",
   "nbconvert_exporter": "python",
   "pygments_lexer": "ipython3",
   "version": "3.9.7"
  }
 },
 "nbformat": 4,
 "nbformat_minor": 5
}
